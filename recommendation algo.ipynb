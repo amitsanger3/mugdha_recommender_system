{
 "cells": [
  {
   "cell_type": "code",
   "execution_count": 1,
   "metadata": {},
   "outputs": [],
   "source": [
    "import numpy as np\n",
    "import pandas as pd\n",
    "import matplotlib.pyplot as plt\n",
    "import seaborn as sns\n",
    "import statistics as st\n",
    "import sqlite3 as sq\n",
    "from sklearn.model_selection import train_test_split\n",
    "import datetime\n",
    "import math"
   ]
  },
  {
   "cell_type": "code",
   "execution_count": 2,
   "metadata": {},
   "outputs": [],
   "source": [
    "%matplotlib inline"
   ]
  },
  {
   "cell_type": "code",
   "execution_count": 3,
   "metadata": {},
   "outputs": [],
   "source": [
    "con = sq.connect('db.sqlite3')"
   ]
  },
  {
   "cell_type": "code",
   "execution_count": 4,
   "metadata": {},
   "outputs": [],
   "source": [
    "df_dish = pd.read_sql_query(\"Select * From home_dish\", con)\n",
    "dish_id = df_dish['id'].to_list()\n",
    "dish = df_dish['item']"
   ]
  },
  {
   "cell_type": "code",
   "execution_count": 5,
   "metadata": {},
   "outputs": [],
   "source": [
    "df_guest = pd.read_sql_query(\"Select * From home_guest\", con)\n",
    "guest_id = df_guest['id'].to_list()\n",
    "guest_mobile = df_guest['mobile']"
   ]
  },
  {
   "cell_type": "code",
   "execution_count": 6,
   "metadata": {},
   "outputs": [
    {
     "data": {
      "text/html": [
       "<div>\n",
       "<style scoped>\n",
       "    .dataframe tbody tr th:only-of-type {\n",
       "        vertical-align: middle;\n",
       "    }\n",
       "\n",
       "    .dataframe tbody tr th {\n",
       "        vertical-align: top;\n",
       "    }\n",
       "\n",
       "    .dataframe thead th {\n",
       "        text-align: right;\n",
       "    }\n",
       "</style>\n",
       "<table border=\"1\" class=\"dataframe\">\n",
       "  <thead>\n",
       "    <tr style=\"text-align: right;\">\n",
       "      <th></th>\n",
       "      <th>id</th>\n",
       "      <th>guest_order_id</th>\n",
       "      <th>guest_to_attend_id</th>\n",
       "      <th>guest_order_ratings</th>\n",
       "    </tr>\n",
       "  </thead>\n",
       "  <tbody>\n",
       "    <tr>\n",
       "      <th>0</th>\n",
       "      <td>1</td>\n",
       "      <td>72</td>\n",
       "      <td>2</td>\n",
       "      <td>4</td>\n",
       "    </tr>\n",
       "    <tr>\n",
       "      <th>1</th>\n",
       "      <td>2</td>\n",
       "      <td>68</td>\n",
       "      <td>2</td>\n",
       "      <td>3</td>\n",
       "    </tr>\n",
       "    <tr>\n",
       "      <th>2</th>\n",
       "      <td>3</td>\n",
       "      <td>33</td>\n",
       "      <td>1</td>\n",
       "      <td>4</td>\n",
       "    </tr>\n",
       "    <tr>\n",
       "      <th>3</th>\n",
       "      <td>4</td>\n",
       "      <td>73</td>\n",
       "      <td>1</td>\n",
       "      <td>3</td>\n",
       "    </tr>\n",
       "    <tr>\n",
       "      <th>4</th>\n",
       "      <td>5</td>\n",
       "      <td>67</td>\n",
       "      <td>3</td>\n",
       "      <td>5</td>\n",
       "    </tr>\n",
       "  </tbody>\n",
       "</table>\n",
       "</div>"
      ],
      "text/plain": [
       "   id  guest_order_id  guest_to_attend_id  guest_order_ratings\n",
       "0   1              72                   2                    4\n",
       "1   2              68                   2                    3\n",
       "2   3              33                   1                    4\n",
       "3   4              73                   1                    3\n",
       "4   5              67                   3                    5"
      ]
     },
     "execution_count": 6,
     "metadata": {},
     "output_type": "execute_result"
    }
   ],
   "source": [
    "df_order = pd.read_sql_query(\"Select * From home_order\", con)\n",
    "guest_order_id = df_order['guest_order_id']\n",
    "guest_to_attend_id = df_order['guest_to_attend_id']\n",
    "df_order.head()"
   ]
  },
  {
   "cell_type": "code",
   "execution_count": 19,
   "metadata": {},
   "outputs": [],
   "source": [
    "class Dish(object):\n",
    "    def __init__(self, dish_id, dish, pram):\n",
    "        \"\"\"\n",
    "        dish_id: list or dataset of dish's id.\n",
    "        dish: list or dataset of dish's.\n",
    "        pram: list or dataset of parameter on which\n",
    "            we get our recommendations like: mean,\n",
    "            co-occurrence etc.\n",
    "        \"\"\"\n",
    "        self.dish_id = dish_id\n",
    "        self.dish = dish\n",
    "        self.pram = pram\n",
    "    \n",
    "    def get_dish_id(self):\n",
    "        return self.dish_id\n",
    "        \n",
    "    def get_dish(self):\n",
    "        return self.dish\n",
    "    \n",
    "    def get_pram(self):\n",
    "        return self.pram\n",
    "    \n",
    "    def __str__(self):\n",
    "        return str(self.dish_id)+\" \" + self.dish + \": \" +str(self.pram)"
   ]
  },
  {
   "cell_type": "code",
   "execution_count": 20,
   "metadata": {},
   "outputs": [],
   "source": [
    "class Recommendations(object):\n",
    "\n",
    "    def __init__(self):\n",
    "        self.dish_id = None\n",
    "        self.dishes = None\n",
    "        self.pram = None\n",
    "        self.matrix_mean = None\n",
    "        self.guest_id = None\n",
    "        \n",
    "    \n",
    "    def get_dish_id(self):\n",
    "        return self.dish_id\n",
    "    \n",
    "    def get_dishes(self):\n",
    "        return self.dish\n",
    "    \n",
    "    \n",
    "    def get_pram(self):\n",
    "        \"\"\"\n",
    "        Recently used parameters list for reccomendations\n",
    "        \"\"\"\n",
    "        return self.pram\n",
    "        \n",
    "        \n",
    "    def get_matrix_mean(self):\n",
    "        return self.matrix_mean\n",
    "    \n",
    "    \n",
    "    def get_guest_id(self):\n",
    "        return self.guest_id\n",
    "        \n",
    "        \n",
    "    def get_recommendation_by_pram(self, dish_id, dish, pram):\n",
    "        \"\"\"\n",
    "        get_recommendation_by_pram(self, dish_id, dish, pram)\n",
    "        \n",
    "        Gives first five recommendations as per the descending\n",
    "        order of the given params.\n",
    "        \n",
    "        Parameters: \n",
    "        dish_id= List/Dataframe/Dataset of id'd of dishes.\n",
    "        dish= List/Dataframe/Dataset of dishes.\n",
    "        pram= List/Dataframe/Dataset of parameters like mean or\n",
    "            co-occurence etc.\n",
    "            \n",
    "        *NOTE: dish_id, dish & pram all 3 are of same sizes.\n",
    "        \"\"\"\n",
    "        self.dish_id = dish_id\n",
    "        self.dish = dish\n",
    "        self.pram = pram\n",
    "        \n",
    "        dish_list = [] # For carrying dish details\n",
    "        for i in range(len(self.dish_id)):\n",
    "            dish_list.append(Dish(dish_id=self.dish_id[i], dish=self.dish[i], pram=self.pram[i]))\n",
    "            \n",
    "        recommendation = sorted(dish_list, key=Recommendations.get_pram, reverse=True)\n",
    "        recommendation_print = [print(i) for i in recommendation[:5]]\n",
    "        \n",
    "        return recommendation[:5]\n",
    "    \n",
    "    \n",
    "    def get_training_test_data(self, tr, ts, r):\n",
    "        df_order_train, df_order_test = train_test_split(df_order, test_size=ts, train_size=tr, random_state=100)\n",
    "        return df_order_train, df_order_test\n",
    "    \n",
    "    \n",
    "    def get_order_and_ratings_matrix(self, orders, dish_id):\n",
    "        \"\"\"\n",
    "        Matrix of guest's orders of size(no. of total guests attended,no. of all \n",
    "        dish served), of values 0 & 1.\n",
    "        1: If guest placed an order of dish then(guest_id_index, dish_id_index)=1\n",
    "        0: otherwise\n",
    "        \n",
    "        Matrix of ratings given by guests to the perticular dishes. If a guest gives\n",
    "        multiple time ratings to a dish, it takes mean of all ratings.\n",
    "        0.0 otherwise.\n",
    "        \n",
    "        Parameters:\n",
    "        orders= Dataframe of orders query of guets, carrying guest id of particular\n",
    "                guest, dish ids of the dishes he rated & the ratings he gave to the\n",
    "                particular dish.\n",
    "        dish_id= List/Dataframe/Dataset of id'd of dishes.\n",
    "        \"\"\"\n",
    "        print(\"Please patience. Its takes saveral minutes to complete.\")\n",
    "        \n",
    "        # list of guest id's from orders  \n",
    "        guest_id = list(order['guest_to_attend_id'].unique())\n",
    "        \n",
    "        self.guest_id = guest_id\n",
    "        self.dish_id = dish_id\n",
    "        \n",
    "        # initializing rating matrix\n",
    "        guest_order_matrix = np.zeros((len(guests), len(dish_id)), dtype=np.int)\n",
    "        guest_rating_matrix = np.zeros((len(guests), len(dish_id)), dtype=np.float)\n",
    "        \n",
    "        orders_copy = orders.copy # make copy to protect orders \n",
    "        \n",
    "        # Initialize performance display\n",
    "        for i in range(100):\n",
    "            print(''.join('-'), end='')\n",
    "        print('100%')\n",
    "        percent = 0\n",
    "        \n",
    "        while len(orders_copy)>0:\n",
    "            i = int(orders_copy['guest_order_id'].iloc[0])\n",
    "            j = int(orders_copy['guest_to_attend_id'].iloc[0])\n",
    "            guest_ratings =  orders_copy[( orders_copy['guest_order_id']==i) & ( orders_copy['guest_to_attend_id']==j)]\n",
    "            x = guests.index(j)\n",
    "            y = dish_id.index(i)\n",
    "            guest_rating_matrix[x][y]=guest_ratings['guest_order_ratings'].mean()\n",
    "            guest_order_matrix[x][y]=1\n",
    "            orders_copy.drop(guest_ratings.index, inplace=True)\n",
    "            if math.floor((len(orders_copy)/len(orders))*100)==percent:\n",
    "                print(''.join('*'), end='') # Shows how much data has been processed\n",
    "                percent += 1\n",
    "        \n",
    "        return guest_order_matrix, guest_rating_matrix\n",
    "    \n",
    "    \n",
    "    def get_matrix_mean(self, matrix):\n",
    "        \"\"\"\n",
    "        get_matrix_mean(self, ratings_matrix=matrix)\n",
    "        List of column-wise means of a matrix \n",
    "        \n",
    "        Parameter:\n",
    "        matrix= Matrix of which means to be calculated.\n",
    "        \"\"\"\n",
    "        matrix_mean = matrix.mean(axis=0)\n",
    "        self.matrix_mean = matrix_mean\n",
    "        return matrix_mean\n",
    "    \n",
    "    \n",
    "    def get_co_occurrence_matrix(self, order_matrix):\n",
    "        \"\"\"\n",
    "        Co-occurence matrix of orders. If any combination of dishes match\n",
    "        with order adds 1 with the value, otherwise 0.\n",
    "        \n",
    "        Parameter:\n",
    "        order_matrix= matrix of guests orders.\n",
    "        \"\"\"\n",
    "        order_matrix_trans = np.transpose(order_matrix) #Transpose of order matrix\n",
    "        co_occurrence_matrix = order_matrix_trans.dot(order_matrix) #dot product\n",
    "        np.fill_diagonal(co_occurrence_matrix, 0) #setting 0 values at the diagonal\n",
    "        \n",
    "        # getting sum of co_occurrence matrix column wise & reshape it in n*1 matrix\n",
    "        co_occurrence_matrix_sum = co_occurrence_matrix.sum(axis=0).reshape(len(co_occurrence_matrix),1)\n",
    "        \n",
    "        # deviding co_occurence matrix row wise to co_occurence_matrix_sum\n",
    "        co_occurrence_matrix_mean=pd.DataFrame(np.array(co_occurrence_matrix)*(1/co_occurrence_matrix_sum))\n",
    "        \n",
    "        return co_occurrence_matrix_mean\n",
    "    \n",
    "    \n",
    "    def get_recommendations_by_highest_ratings(self, dish_id, dish, rating_matrix):\n",
    "        \"\"\"\n",
    "        get_recommendations_by_highest_ratings(self, dish_id=list, dish=list, rating_matrix=matrix)\n",
    "        \n",
    "        Top 5 recommendations of highest ratings\n",
    "        \n",
    "        Parameters:\n",
    "        dish_id = list of all dish'ids\n",
    "        dish = list of all the dishes\n",
    "        rating_matrix = matrix of rating's means of the ratings given by guests to\n",
    "                        the dishes they ordered.\n",
    "        \"\"\"\n",
    "        rating_matrix_mean = get_matrix_mean(rating_matrix)\n",
    "        recommendations_by_highest_ratings = get_recommendation_by_pram(dish_id, dish, rating_matrix_mean)\n",
    "        \n",
    "        return recommendations_by_highest_ratings\n",
    "    \n",
    "    \n",
    "    def get_recommendations_by_popularity(self, dish_id, dish, order_matrix):\n",
    "        \"\"\"\n",
    "        get_recommendations_by_popularity(self, dish_id=list, dish=list, order_matrix=matrix)\n",
    "        \n",
    "        Top 5 recommendations of highest selling dishes\n",
    "        \n",
    "        Parameters:\n",
    "        dish_id = list of all dish'ids\n",
    "        dish = list of all the dishes\n",
    "        order_matrix = matrix of 1 or 0 if guest orders that perticular dish or not,\n",
    "                        respectively.\n",
    "        \"\"\"\n",
    "        order_matrix_mean = get_matrix_mean(order_matrix)\n",
    "        recommendations_by_popularity = get_recommendation_by_pram(dish_id, dish, order_matrix_mean)\n",
    "        \n",
    "        return recommendations_by_popularity\n",
    "    \n",
    "    \n",
    "    def get_recommendations_by_occurence(self, guest_tried_dishes, dish_id, dishes, co_occurrence_matrix):\n",
    "        \"\"\"\n",
    "        get_recommendations_by_occurence(self, guest_tried_dishes=list, dish_id=list, dishes=list, co_occurrence_matrix=list)\n",
    "        \n",
    "        Get 5 recommendations on the basis of nearest neighbour method.\n",
    "        \n",
    "        Parameters:\n",
    "        guest_tried_dishes = list id dishes's ids that user aleady tried.\n",
    "        dish_id = list of all dish'ids\n",
    "        dish = list of all the dishes\n",
    "        co_occurrence_matrix = matrix of integers ranges(0, len(dish_id)),\n",
    "                                depends number of times any combination of \n",
    "                                dishes get ordered.\n",
    "        \"\"\"\n",
    "        co_occurrence_list = []\n",
    "        for i in guest_tried_dishes:\n",
    "            co_occurrence_data = co_occurrence_matrix.iloc[dish_id.index(i)]\n",
    "            co_occurrence_list.append(co_occurrence_data)\n",
    "        \n",
    "        df_mean = pd.DataFrame(co_occurrence_list).mean()\n",
    "        \n",
    "        recommendations_by_occurence = get_recommendation_by_pram(dish_id, dishes, df_mean)\n",
    "        \n",
    "        return recommendations_by_occurence"
   ]
  },
  {
   "cell_type": "code",
   "execution_count": 7,
   "metadata": {},
   "outputs": [
    {
     "name": "stdout",
     "output_type": "stream",
     "text": [
      "start time: 2019-09-02T17:49:04.671485\n",
      "99.9981366922561 % DONE in:  0:00:00.056016 ROWS PROCESSED:  1\n",
      "finish in: 0:00:01.141754\n"
     ]
    }
   ],
   "source": [
    "# rating matrix\n",
    "#df_order[(df_order['guest_order_id']==72) & (df_order['guest_to_attend_id']==2)]['guest_order_ratings'].mean()\n",
    "start = datetime.datetime.now()\n",
    "print(\"start time:\", datetime.datetime.now().isoformat())\n",
    "# getting samples for testing & training data   \n",
    "df_order_sample_train, df_order_sample_test = train_test_split(df_order, test_size=0.1, train_size=0.2, random_state=100)\n",
    "guest_sample_train = list(df_order_sample_train['guest_to_attend_id'].unique())\n",
    "\n",
    "guest_ratings = np.zeros((len(guest_sample_train), len(dish_id)), dtype=np.float)\n",
    "#percent = 1 # To check how much percent is done.\n",
    "        \n",
    "#for i in range(100):\n",
    "#    print(''.join('-'), end='')\n",
    "\n",
    "#print('100%')\n",
    "\n",
    "num=0\n",
    "num1=0\n",
    "first=datetime.datetime.now()\n",
    "'''\n",
    "for i in guest_sample_train:\n",
    "    for j in dish_id:\n",
    "        guest_rating = df_order_sample_train[(df_order_sample_train['guest_order_id']==int(i)) & (df_order_sample_train['guest_to_attend_id']==int(j))]\n",
    "        if len(guest_rating) < 1:\n",
    "            continue\n",
    "        else:\n",
    "            x = guest_sample_train.index(i)\n",
    "            y = dish_id.index(j)\n",
    "            guest_ratings[x][y]=guest_rating['guest_order_ratings'].mean()\n",
    "            #print(\"mean\", guest_rating['guest_order_ratings'].mean())\n",
    "            df_order_sample_train.drop(guest_rating.index, inplace=True)\n",
    "    if num%100 == 0:\n",
    "        r = ((len(guest_sample_train)-num)/len(guest_sample_train))*100\n",
    "        print(r, \"% remaining. Time taken:\", str(datetime.datetime.now()-first))\n",
    "        first = datetime.datetime.now()\n",
    "    num+=1\n",
    "'''\n",
    "\n",
    "df4 = df_order_sample_train.copy()\n",
    "#df1= df4['guest_order_id'].to_list()\n",
    "#df2=df4['guest_to_attend_id'].to_list()\n",
    "#df3 = df4['guest_order_ratings'].to_list()\n",
    "row_start = len(df_order_sample_train)\n",
    "search = True\n",
    "while len(df4)>0:\n",
    "    try:\n",
    "        #print('i m in')\n",
    "        guest_rating = df4[(df4['guest_order_id']==int(df4['guest_order_id'].iloc[0])) & (df4['guest_to_attend_id']==int(df4['guest_to_attend_id'].iloc[0]))]\n",
    "        #print('guest rating', guest_rating)\n",
    "        x = guest_sample_train.index(int(df4['guest_to_attend_id'].iloc[0]))\n",
    "        #print('x',x)\n",
    "        y = dish_id.index(int(df4['guest_order_id'].iloc[0]))\n",
    "        #print('y', y)\n",
    "        guest_ratings[x][y]=guest_rating['guest_order_ratings'].mean()\n",
    "        #print('x,y', guest_ratings[x][y])\n",
    "        df4.drop(guest_rating.index, inplace=True)\n",
    "        #print('i drop')\n",
    "        if num1%100==0:\n",
    "            rem = (len(df4)/len(df_order_sample_train))*100\n",
    "            print(rem, \"% DONE in: \", str(datetime.datetime.now()-first), \"ROWS PROCESSED: \", row_start-len(df4))\n",
    "            first =datetime.datetime.now()\n",
    "            row_start = len(df4)\n",
    "        num1+=1\n",
    "    except:\n",
    "        search = False\n",
    "        break\n",
    "    \n",
    "#    if (i/len(guest_id))*100 == percent:\n",
    "#        print(''.join('*'), end='')\n",
    "#        percent += 1\n",
    "#print('Finish')\n",
    "print(\"finish in:\", str(datetime.datetime.now()-start))"
   ]
  },
  {
   "cell_type": "code",
   "execution_count": null,
   "metadata": {},
   "outputs": [],
   "source": []
  },
  {
   "cell_type": "code",
   "execution_count": null,
   "metadata": {},
   "outputs": [],
   "source": []
  },
  {
   "cell_type": "code",
   "execution_count": null,
   "metadata": {},
   "outputs": [],
   "source": []
  },
  {
   "cell_type": "code",
   "execution_count": null,
   "metadata": {},
   "outputs": [],
   "source": [
    "def get_guest_orders_matrix(self, guest_id, dish_id, guest_order_id, guest_to_attend_id):\n",
    "        \"\"\"\n",
    "        To get matrix of size(no. of total guests attended,no. of all dish served),\n",
    "        of values 0 & 1.\n",
    "        1: If guest placed an order of dish then(guest_id_index, dish_id_index)=1\n",
    "        0: otherwise\n",
    "        \n",
    "        Parameters:\n",
    "        guest_ids = Dataframe of all the guest's ids.\n",
    "        dish_ids = Dataframe of all the dish's ids.\n",
    "        guest_order_id = Dataframe of dish's if of the placed order.\n",
    "        guest_to_attend_id = Dataframe of guest's id who placed the order\n",
    "        \"\"\"\n",
    "        self.guest_id = guest_id\n",
    "        self.dish_id = dish_id\n",
    "        self.guest_order_id = guest_order_id\n",
    "        self.guest_to_attend_id = guest_to_attend_id\n",
    "        \n",
    "        guest_orders = np.zeros((len(guest_id), len(dish_id)), dtype=np.int8)\n",
    "        percent = 1 # To check how much percent is done.\n",
    "        \n",
    "        for i in range(100):\n",
    "            print(''.join('-'), end='')\n",
    "            \n",
    "        print('100%')\n",
    "        \n",
    "        for i in range(len(guest_to_attend_id)):\n",
    "            x = guest_ids.to_list().index(guest_to_attend_id[i])\n",
    "            y = dish_id.to_list().index(guest_order_id[i])\n",
    "            guest_orders[int(x)][int(y)]=1\n",
    "            \n",
    "            if ((len(guest_to_attend_id)-i)/len(guest_to_attend_id))*100 == percent:\n",
    "                print(''.join('*'), end='')\n",
    "                percent += 1\n",
    "        print('Finish')"
   ]
  },
  {
   "cell_type": "code",
   "execution_count": null,
   "metadata": {},
   "outputs": [],
   "source": []
  },
  {
   "cell_type": "code",
   "execution_count": null,
   "metadata": {},
   "outputs": [],
   "source": []
  },
  {
   "cell_type": "code",
   "execution_count": null,
   "metadata": {},
   "outputs": [],
   "source": [
    "orders.pivot_table(values='guest_order_ratings',\n",
    "    index='guest_to_attend_id',\n",
    "    columns='guest_order_id',\n",
    "    aggfunc='mean',\n",
    "    fill_value=0,\n",
    "    margins=False,\n",
    "    dropna=True,\n",
    "    margins_name='All',)"
   ]
  },
  {
   "cell_type": "code",
   "execution_count": 25,
   "metadata": {},
   "outputs": [
    {
     "name": "stdout",
     "output_type": "stream",
     "text": [
      "finish in: 0:00:05.143680\n"
     ]
    }
   ],
   "source": [
    "start = datetime.datetime.now()\n",
    "op=df_order.pivot_table(values='guest_order_ratings',\n",
    "    index='guest_to_attend_id',\n",
    "    columns='guest_order_id',\n",
    "    aggfunc='mean',\n",
    "    fill_value=0,\n",
    "    margins=False,\n",
    "    dropna=True,\n",
    "    margins_name='All',)\n",
    "print(\"finish in:\", str(datetime.datetime.now()-start))"
   ]
  },
  {
   "cell_type": "code",
   "execution_count": 26,
   "metadata": {},
   "outputs": [
    {
     "data": {
      "text/plain": [
       "(9899, 126)"
      ]
     },
     "execution_count": 26,
     "metadata": {},
     "output_type": "execute_result"
    }
   ],
   "source": [
    "op.shape"
   ]
  },
  {
   "cell_type": "code",
   "execution_count": 29,
   "metadata": {},
   "outputs": [],
   "source": [
    "guests = df_order['guest_to_attend_id'].unique()"
   ]
  },
  {
   "cell_type": "code",
   "execution_count": 30,
   "metadata": {},
   "outputs": [
    {
     "data": {
      "text/plain": [
       "9899"
      ]
     },
     "execution_count": 30,
     "metadata": {},
     "output_type": "execute_result"
    }
   ],
   "source": [
    "len(guests)"
   ]
  },
  {
   "cell_type": "code",
   "execution_count": 16,
   "metadata": {},
   "outputs": [],
   "source": [
    "a1 = np.array([[0,4 ,0,8],[2,1,0,0],[4,0,0,6],[0,0,3,1]])\n",
    "a2 =a1>1"
   ]
  },
  {
   "cell_type": "code",
   "execution_count": 17,
   "metadata": {},
   "outputs": [
    {
     "data": {
      "text/plain": [
       "array([[0, 1, 0, 1],\n",
       "       [1, 0, 0, 0],\n",
       "       [1, 0, 0, 1],\n",
       "       [0, 0, 1, 0]])"
      ]
     },
     "execution_count": 17,
     "metadata": {},
     "output_type": "execute_result"
    }
   ],
   "source": [
    "a2.astype(dtype=int)"
   ]
  },
  {
   "cell_type": "code",
   "execution_count": null,
   "metadata": {},
   "outputs": [],
   "source": [
    "def get_order_binary_matrix(self, orders):\n",
    "        \"\"\"\n",
    "        Matrix of guest's orders of size(no. of total guests attended,no. of all \n",
    "        dish served), of values 0 & 1.\n",
    "        1: If guest placed an order of dish then(guest_id_index, dish_id_index)=1\n",
    "        0: otherwise\n",
    "        \n",
    "        Parameters:\n",
    "        orders= Dataframe of orders query of guets, carrying guest id of particular\n",
    "                guest, dish ids of the dishes he rated & the ratings he gave to the\n",
    "                particular dish.\n",
    "        dish_id= List/Dataframe/Dataset of id'd of dishes.\n",
    "        \"\"\"\n",
    "        print(\"Please patience. Its takes saveral minutes to complete.\")\n",
    "        \n",
    "        # list of guest id's from orders  \n",
    "        guest_id = list(order['guest_to_attend_id'].unique())\n",
    "        \n",
    "        self.guest_id = guest_id\n",
    "        self.dish_id = dish_id\n",
    "        \n",
    "        # initializing rating matrix\n",
    "        guest_order_matrix = np.zeros((len(guests), len(dish_id)), dtype=np.int)\n",
    "        guest_rating_matrix = np.zeros((len(guests), len(dish_id)), dtype=np.float)\n",
    "        \n",
    "        orders_copy = orders.copy # make copy to protect orders \n",
    "        \n",
    "        # Initialize performance display\n",
    "        for i in range(100):\n",
    "            print(''.join('-'), end='')\n",
    "        print('100%')\n",
    "        percent = 0\n",
    "        \n",
    "        while len(orders_copy)>0:\n",
    "            i = int(orders_copy['guest_order_id'].iloc[0])\n",
    "            j = int(orders_copy['guest_to_attend_id'].iloc[0])\n",
    "            guest_ratings =  orders_copy[( orders_copy['guest_order_id']==i) & ( orders_copy['guest_to_attend_id']==j)]\n",
    "            x = guests.index(j)\n",
    "            y = dish_id.index(i)\n",
    "            guest_rating_matrix[x][y]=guest_ratings['guest_order_ratings'].mean()\n",
    "            guest_order_matrix[x][y]=1\n",
    "            orders_copy.drop(guest_ratings.index, inplace=True)\n",
    "            if math.floor((len(orders_copy)/len(orders))*100)==percent:\n",
    "                print(''.join('*'), end='') # Shows how much data has been processed\n",
    "                percent += 1\n",
    "        \n",
    "        return guest_order_matrix, guest_rating_matrix"
   ]
  },
  {
   "cell_type": "code",
   "execution_count": 24,
   "metadata": {},
   "outputs": [],
   "source": [
    "def get_ratings_matrix(orders):\n",
    "        \"\"\"      \n",
    "        Matrix of ratings given by guests to the perticular dishes. If a guest gives\n",
    "        multiple time ratings to a dish, it takes mean of all ratings.\n",
    "        0.0 otherwise.\n",
    "        \n",
    "        Parameters:\n",
    "        orders= Dataframe of orders query of guets, carrying guest id of particular\n",
    "                guest, dish ids of the dishes he rated & the ratings he gave to the\n",
    "                particular dish.\n",
    "        dish_id= List/Dataframe/Dataset of id'd of dishes.\n",
    "        \"\"\"\n",
    "        \n",
    "        guest_rating_matrix=orders.pivot_table(values='guest_order_ratings',\n",
    "                                index='guest_to_attend_id',\n",
    "                                columns='guest_order_id',\n",
    "                                aggfunc='mean',\n",
    "                                fill_value=0,\n",
    "                                margins=False,\n",
    "                                dropna=True,\n",
    "                                margins_name='All',)\n",
    "        \n",
    "        guest_order_matrix = (guest_rating_matrix>0).astype(dtype=int)\n",
    "        \n",
    "        return guest_rating_matrix"
   ]
  },
  {
   "cell_type": "code",
   "execution_count": 21,
   "metadata": {},
   "outputs": [],
   "source": [
    "rc = Recommendations()"
   ]
  },
  {
   "cell_type": "code",
   "execution_count": 22,
   "metadata": {},
   "outputs": [],
   "source": [
    "xtr, xts = rc.get_training_test_data(0.25, 0.1, 100)"
   ]
  },
  {
   "cell_type": "code",
   "execution_count": 27,
   "metadata": {},
   "outputs": [],
   "source": [
    "bin_xtr=get_ratings_matrix(xtr)>0"
   ]
  },
  {
   "cell_type": "code",
   "execution_count": 29,
   "metadata": {},
   "outputs": [],
   "source": [
    "bt = bin_xtr.astype(dtype=int)"
   ]
  },
  {
   "cell_type": "code",
   "execution_count": 30,
   "metadata": {},
   "outputs": [
    {
     "data": {
      "text/plain": [
       "array([[514,  61,  40, ...,  52,   9,   6],\n",
       "       [ 61, 528,  41, ...,  31,  12,  13],\n",
       "       [ 40,  41, 526, ...,  35,   7,  12],\n",
       "       ...,\n",
       "       [ 52,  31,  35, ..., 504,   7,   7],\n",
       "       [  9,  12,   7, ...,   7, 181,   3],\n",
       "       [  6,  13,  12, ...,   7,   3, 197]])"
      ]
     },
     "execution_count": 30,
     "metadata": {},
     "output_type": "execute_result"
    }
   ],
   "source": [
    "np.dot(bt.transpose(), bt)"
   ]
  },
  {
   "cell_type": "code",
   "execution_count": 23,
   "metadata": {},
   "outputs": [
    {
     "data": {
      "text/plain": [
       "False"
      ]
     },
     "execution_count": 23,
     "metadata": {},
     "output_type": "execute_result"
    }
   ],
   "source": [
    "np.eye()"
   ]
  },
  {
   "cell_type": "code",
   "execution_count": 34,
   "metadata": {},
   "outputs": [
    {
     "ename": "ValueError",
     "evalue": "The truth value of a DataFrame is ambiguous. Use a.empty, a.bool(), a.item(), a.any() or a.all().",
     "output_type": "error",
     "traceback": [
      "\u001b[1;31m---------------------------------------------------------------------------\u001b[0m",
      "\u001b[1;31mValueError\u001b[0m                                Traceback (most recent call last)",
      "\u001b[1;32m<ipython-input-34-4215fe95429f>\u001b[0m in \u001b[0;36m<module>\u001b[1;34m\u001b[0m\n\u001b[1;32m----> 1\u001b[1;33m \u001b[0mxam\u001b[0m\u001b[1;33m(\u001b[0m\u001b[0mpd\u001b[0m\u001b[1;33m.\u001b[0m\u001b[0mDataFrame\u001b[0m\u001b[1;33m(\u001b[0m\u001b[0ma1\u001b[0m\u001b[1;33m)\u001b[0m\u001b[1;33m)\u001b[0m\u001b[1;33m\u001b[0m\u001b[1;33m\u001b[0m\u001b[0m\n\u001b[0m",
      "\u001b[1;32m<ipython-input-33-8e687b24c105>\u001b[0m in \u001b[0;36mxam\u001b[1;34m(x)\u001b[0m\n\u001b[0;32m      1\u001b[0m \u001b[1;32mdef\u001b[0m \u001b[0mxam\u001b[0m\u001b[1;33m(\u001b[0m\u001b[0mx\u001b[0m\u001b[1;33m)\u001b[0m\u001b[1;33m:\u001b[0m\u001b[1;33m\u001b[0m\u001b[1;33m\u001b[0m\u001b[0m\n\u001b[1;32m----> 2\u001b[1;33m     \u001b[1;32mif\u001b[0m \u001b[0mx\u001b[0m\u001b[1;33m==\u001b[0m\u001b[1;36m1\u001b[0m\u001b[1;33m:\u001b[0m\u001b[1;33m\u001b[0m\u001b[1;33m\u001b[0m\u001b[0m\n\u001b[0m\u001b[0;32m      3\u001b[0m         \u001b[0mprint\u001b[0m\u001b[1;33m(\u001b[0m\u001b[0mx\u001b[0m\u001b[1;33m)\u001b[0m\u001b[1;33m\u001b[0m\u001b[1;33m\u001b[0m\u001b[0m\n\u001b[0;32m      4\u001b[0m \u001b[1;33m\u001b[0m\u001b[0m\n",
      "\u001b[1;32mc:\\users\\amit\\appdata\\local\\programs\\python\\python37-32\\lib\\site-packages\\pandas\\core\\generic.py\u001b[0m in \u001b[0;36m__nonzero__\u001b[1;34m(self)\u001b[0m\n\u001b[0;32m   1476\u001b[0m         raise ValueError(\"The truth value of a {0} is ambiguous. \"\n\u001b[0;32m   1477\u001b[0m                          \u001b[1;34m\"Use a.empty, a.bool(), a.item(), a.any() or a.all().\"\u001b[0m\u001b[1;33m\u001b[0m\u001b[1;33m\u001b[0m\u001b[0m\n\u001b[1;32m-> 1478\u001b[1;33m                          .format(self.__class__.__name__))\n\u001b[0m\u001b[0;32m   1479\u001b[0m \u001b[1;33m\u001b[0m\u001b[0m\n\u001b[0;32m   1480\u001b[0m     \u001b[0m__bool__\u001b[0m \u001b[1;33m=\u001b[0m \u001b[0m__nonzero__\u001b[0m\u001b[1;33m\u001b[0m\u001b[1;33m\u001b[0m\u001b[0m\n",
      "\u001b[1;31mValueError\u001b[0m: The truth value of a DataFrame is ambiguous. Use a.empty, a.bool(), a.item(), a.any() or a.all()."
     ]
    }
   ],
   "source": [
    "xam(pd.DataFrame(a1))"
   ]
  },
  {
   "cell_type": "code",
   "execution_count": null,
   "metadata": {},
   "outputs": [],
   "source": []
  },
  {
   "cell_type": "code",
   "execution_count": null,
   "metadata": {},
   "outputs": [],
   "source": []
  },
  {
   "cell_type": "code",
   "execution_count": null,
   "metadata": {},
   "outputs": [],
   "source": []
  },
  {
   "cell_type": "code",
   "execution_count": null,
   "metadata": {},
   "outputs": [],
   "source": []
  },
  {
   "cell_type": "code",
   "execution_count": null,
   "metadata": {},
   "outputs": [],
   "source": []
  },
  {
   "cell_type": "code",
   "execution_count": null,
   "metadata": {},
   "outputs": [],
   "source": []
  },
  {
   "cell_type": "code",
   "execution_count": null,
   "metadata": {},
   "outputs": [],
   "source": []
  },
  {
   "cell_type": "code",
   "execution_count": null,
   "metadata": {},
   "outputs": [],
   "source": []
  },
  {
   "cell_type": "code",
   "execution_count": null,
   "metadata": {},
   "outputs": [],
   "source": []
  },
  {
   "cell_type": "code",
   "execution_count": null,
   "metadata": {},
   "outputs": [],
   "source": []
  },
  {
   "cell_type": "code",
   "execution_count": null,
   "metadata": {},
   "outputs": [],
   "source": []
  }
 ],
 "metadata": {
  "kernelspec": {
   "display_name": "mugdhaEnv",
   "language": "python",
   "name": "mugdhaenv"
  },
  "language_info": {
   "codemirror_mode": {
    "name": "ipython",
    "version": 3
   },
   "file_extension": ".py",
   "mimetype": "text/x-python",
   "name": "python",
   "nbconvert_exporter": "python",
   "pygments_lexer": "ipython3",
   "version": "3.7.2"
  }
 },
 "nbformat": 4,
 "nbformat_minor": 2
}
