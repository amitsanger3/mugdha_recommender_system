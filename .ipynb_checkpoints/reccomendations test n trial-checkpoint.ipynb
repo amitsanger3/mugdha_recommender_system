{
 "cells": [
  {
   "cell_type": "code",
   "execution_count": 1,
   "metadata": {},
   "outputs": [],
   "source": [
    "import sqlite3\n",
    "import numpy as np\n",
    "import pandas as pd\n",
    "import random"
   ]
  },
  {
   "cell_type": "code",
   "execution_count": 2,
   "metadata": {},
   "outputs": [],
   "source": [
    "f = pd.read_excel('Xdata.xlsx', sheet_name='Sheet1')"
   ]
  },
  {
   "cell_type": "code",
   "execution_count": 3,
   "metadata": {},
   "outputs": [
    {
     "name": "stderr",
     "output_type": "stream",
     "text": [
      "c:\\users\\amit\\appdata\\local\\programs\\python\\python37-32\\lib\\site-packages\\ipykernel_launcher.py:6: FutureWarning: set_axis currently defaults to operating inplace.\n",
      "This will change in a future version of pandas, use inplace=True to avoid this warning.\n",
      "  \n"
     ]
    }
   ],
   "source": [
    "dish = []\n",
    "for i in range(125):\n",
    "    s = 'dish'+str(i)\n",
    "    dish.append(s)\n",
    "    \n",
    "f.set_axis(dish, axis=1)\n",
    "y = f.drop('dish0', axis=1)"
   ]
  },
  {
   "cell_type": "code",
   "execution_count": 4,
   "metadata": {},
   "outputs": [
    {
     "data": {
      "text/html": [
       "<div>\n",
       "<style scoped>\n",
       "    .dataframe tbody tr th:only-of-type {\n",
       "        vertical-align: middle;\n",
       "    }\n",
       "\n",
       "    .dataframe tbody tr th {\n",
       "        vertical-align: top;\n",
       "    }\n",
       "\n",
       "    .dataframe thead th {\n",
       "        text-align: right;\n",
       "    }\n",
       "</style>\n",
       "<table border=\"1\" class=\"dataframe\">\n",
       "  <thead>\n",
       "    <tr style=\"text-align: right;\">\n",
       "      <th></th>\n",
       "      <th>dish1</th>\n",
       "      <th>dish2</th>\n",
       "      <th>dish3</th>\n",
       "      <th>dish4</th>\n",
       "      <th>dish5</th>\n",
       "      <th>dish6</th>\n",
       "      <th>dish7</th>\n",
       "      <th>dish8</th>\n",
       "      <th>dish9</th>\n",
       "      <th>dish10</th>\n",
       "      <th>...</th>\n",
       "      <th>dish115</th>\n",
       "      <th>dish116</th>\n",
       "      <th>dish117</th>\n",
       "      <th>dish118</th>\n",
       "      <th>dish119</th>\n",
       "      <th>dish120</th>\n",
       "      <th>dish121</th>\n",
       "      <th>dish122</th>\n",
       "      <th>dish123</th>\n",
       "      <th>dish124</th>\n",
       "    </tr>\n",
       "  </thead>\n",
       "  <tbody>\n",
       "    <tr>\n",
       "      <th>0</th>\n",
       "      <td>0.000000</td>\n",
       "      <td>1.428571</td>\n",
       "      <td>0.000000</td>\n",
       "      <td>0.000000</td>\n",
       "      <td>0.0</td>\n",
       "      <td>1.428571</td>\n",
       "      <td>1.428571</td>\n",
       "      <td>0.0</td>\n",
       "      <td>0.0</td>\n",
       "      <td>1.428571</td>\n",
       "      <td>...</td>\n",
       "      <td>1.428571</td>\n",
       "      <td>0.000000</td>\n",
       "      <td>0.000000</td>\n",
       "      <td>0.000000</td>\n",
       "      <td>0.000000</td>\n",
       "      <td>0.000000</td>\n",
       "      <td>0.000000</td>\n",
       "      <td>1.428571</td>\n",
       "      <td>0.000000</td>\n",
       "      <td>0.0</td>\n",
       "    </tr>\n",
       "    <tr>\n",
       "      <th>1</th>\n",
       "      <td>0.000000</td>\n",
       "      <td>0.000000</td>\n",
       "      <td>0.000000</td>\n",
       "      <td>0.000000</td>\n",
       "      <td>0.0</td>\n",
       "      <td>0.000000</td>\n",
       "      <td>0.000000</td>\n",
       "      <td>0.0</td>\n",
       "      <td>0.0</td>\n",
       "      <td>0.000000</td>\n",
       "      <td>...</td>\n",
       "      <td>0.000000</td>\n",
       "      <td>0.000000</td>\n",
       "      <td>0.000000</td>\n",
       "      <td>0.000000</td>\n",
       "      <td>0.000000</td>\n",
       "      <td>0.000000</td>\n",
       "      <td>0.000000</td>\n",
       "      <td>0.000000</td>\n",
       "      <td>0.000000</td>\n",
       "      <td>0.0</td>\n",
       "    </tr>\n",
       "    <tr>\n",
       "      <th>2</th>\n",
       "      <td>0.000000</td>\n",
       "      <td>0.000000</td>\n",
       "      <td>0.000000</td>\n",
       "      <td>0.000000</td>\n",
       "      <td>0.0</td>\n",
       "      <td>0.000000</td>\n",
       "      <td>2.173913</td>\n",
       "      <td>0.0</td>\n",
       "      <td>0.0</td>\n",
       "      <td>0.000000</td>\n",
       "      <td>...</td>\n",
       "      <td>0.000000</td>\n",
       "      <td>0.000000</td>\n",
       "      <td>0.000000</td>\n",
       "      <td>0.000000</td>\n",
       "      <td>0.000000</td>\n",
       "      <td>2.173913</td>\n",
       "      <td>0.000000</td>\n",
       "      <td>4.347826</td>\n",
       "      <td>4.347826</td>\n",
       "      <td>0.0</td>\n",
       "    </tr>\n",
       "    <tr>\n",
       "      <th>3</th>\n",
       "      <td>0.793651</td>\n",
       "      <td>0.000000</td>\n",
       "      <td>0.793651</td>\n",
       "      <td>1.587302</td>\n",
       "      <td>0.0</td>\n",
       "      <td>0.000000</td>\n",
       "      <td>0.000000</td>\n",
       "      <td>0.0</td>\n",
       "      <td>0.0</td>\n",
       "      <td>0.000000</td>\n",
       "      <td>...</td>\n",
       "      <td>0.000000</td>\n",
       "      <td>0.793651</td>\n",
       "      <td>0.793651</td>\n",
       "      <td>0.793651</td>\n",
       "      <td>0.000000</td>\n",
       "      <td>0.000000</td>\n",
       "      <td>0.793651</td>\n",
       "      <td>0.000000</td>\n",
       "      <td>0.793651</td>\n",
       "      <td>0.0</td>\n",
       "    </tr>\n",
       "    <tr>\n",
       "      <th>4</th>\n",
       "      <td>0.000000</td>\n",
       "      <td>0.000000</td>\n",
       "      <td>1.388889</td>\n",
       "      <td>0.000000</td>\n",
       "      <td>0.0</td>\n",
       "      <td>0.000000</td>\n",
       "      <td>2.777778</td>\n",
       "      <td>0.0</td>\n",
       "      <td>0.0</td>\n",
       "      <td>0.000000</td>\n",
       "      <td>...</td>\n",
       "      <td>1.388889</td>\n",
       "      <td>1.388889</td>\n",
       "      <td>0.000000</td>\n",
       "      <td>1.388889</td>\n",
       "      <td>1.388889</td>\n",
       "      <td>0.000000</td>\n",
       "      <td>1.388889</td>\n",
       "      <td>0.000000</td>\n",
       "      <td>0.000000</td>\n",
       "      <td>0.0</td>\n",
       "    </tr>\n",
       "  </tbody>\n",
       "</table>\n",
       "<p>5 rows × 124 columns</p>\n",
       "</div>"
      ],
      "text/plain": [
       "      dish1     dish2     dish3     dish4  dish5     dish6     dish7  dish8  \\\n",
       "0  0.000000  1.428571  0.000000  0.000000    0.0  1.428571  1.428571    0.0   \n",
       "1  0.000000  0.000000  0.000000  0.000000    0.0  0.000000  0.000000    0.0   \n",
       "2  0.000000  0.000000  0.000000  0.000000    0.0  0.000000  2.173913    0.0   \n",
       "3  0.793651  0.000000  0.793651  1.587302    0.0  0.000000  0.000000    0.0   \n",
       "4  0.000000  0.000000  1.388889  0.000000    0.0  0.000000  2.777778    0.0   \n",
       "\n",
       "   dish9    dish10  ...   dish115   dish116   dish117   dish118   dish119  \\\n",
       "0    0.0  1.428571  ...  1.428571  0.000000  0.000000  0.000000  0.000000   \n",
       "1    0.0  0.000000  ...  0.000000  0.000000  0.000000  0.000000  0.000000   \n",
       "2    0.0  0.000000  ...  0.000000  0.000000  0.000000  0.000000  0.000000   \n",
       "3    0.0  0.000000  ...  0.000000  0.793651  0.793651  0.793651  0.000000   \n",
       "4    0.0  0.000000  ...  1.388889  1.388889  0.000000  1.388889  1.388889   \n",
       "\n",
       "    dish120   dish121   dish122   dish123  dish124  \n",
       "0  0.000000  0.000000  1.428571  0.000000      0.0  \n",
       "1  0.000000  0.000000  0.000000  0.000000      0.0  \n",
       "2  2.173913  0.000000  4.347826  4.347826      0.0  \n",
       "3  0.000000  0.793651  0.000000  0.793651      0.0  \n",
       "4  0.000000  1.388889  0.000000  0.000000      0.0  \n",
       "\n",
       "[5 rows x 124 columns]"
      ]
     },
     "execution_count": 4,
     "metadata": {},
     "output_type": "execute_result"
    }
   ],
   "source": [
    "y.head(5)"
   ]
  },
  {
   "cell_type": "code",
   "execution_count": 5,
   "metadata": {},
   "outputs": [],
   "source": [
    "y_mean=y.mean()\n",
    "y_sorted_mean = sorted(y_mean, reverse=True)"
   ]
  },
  {
   "cell_type": "code",
   "execution_count": 6,
   "metadata": {},
   "outputs": [
    {
     "data": {
      "text/plain": [
       "dish1      0.420499\n",
       "dish2      0.422870\n",
       "dish3      0.397200\n",
       "dish4      0.384119\n",
       "dish5      0.393364\n",
       "dish6      0.408770\n",
       "dish7      0.367624\n",
       "dish8      0.399795\n",
       "dish9      0.408630\n",
       "dish10     0.400183\n",
       "dish11     0.425437\n",
       "dish12     0.410756\n",
       "dish13     0.419481\n",
       "dish14     0.412185\n",
       "dish15     0.406293\n",
       "dish16     0.379367\n",
       "dish17     0.424228\n",
       "dish18     0.397582\n",
       "dish19     0.395822\n",
       "dish20     0.400441\n",
       "dish21     0.389136\n",
       "dish22     0.422448\n",
       "dish23     0.393734\n",
       "dish24     0.432953\n",
       "dish25     0.418927\n",
       "dish26     0.401026\n",
       "dish27     0.414376\n",
       "dish28     0.376674\n",
       "dish29     0.384732\n",
       "dish30     0.426985\n",
       "             ...   \n",
       "dish95     0.401725\n",
       "dish96     0.390909\n",
       "dish97     0.375559\n",
       "dish98     0.396639\n",
       "dish99     0.420940\n",
       "dish100    0.392509\n",
       "dish101    0.411022\n",
       "dish102    0.395929\n",
       "dish103    0.404255\n",
       "dish104    0.399326\n",
       "dish105    0.423965\n",
       "dish106    0.387548\n",
       "dish107    0.411189\n",
       "dish108    0.384286\n",
       "dish109    0.404950\n",
       "dish110    0.418515\n",
       "dish111    0.389854\n",
       "dish112    0.415478\n",
       "dish113    0.391124\n",
       "dish114    0.416515\n",
       "dish115    0.405925\n",
       "dish116    0.398739\n",
       "dish117    0.409780\n",
       "dish118    0.395991\n",
       "dish119    0.412909\n",
       "dish120    0.380149\n",
       "dish121    0.409329\n",
       "dish122    0.403774\n",
       "dish123    0.405080\n",
       "dish124    0.370647\n",
       "Length: 124, dtype: float64"
      ]
     },
     "execution_count": 6,
     "metadata": {},
     "output_type": "execute_result"
    }
   ],
   "source": [
    "y_mean"
   ]
  },
  {
   "cell_type": "code",
   "execution_count": 7,
   "metadata": {},
   "outputs": [],
   "source": [
    "class RecByMean(object):\n",
    "    def __init__(self, dish_id, dish, mean):\n",
    "        self.dish_id = dish_id\n",
    "        self.dish = dish\n",
    "        self.mean = mean\n",
    "    \n",
    "    def get_dish_id(self):\n",
    "        return self.dish_id\n",
    "        \n",
    "    def get_dish(self):\n",
    "        return self.dish\n",
    "    \n",
    "    def get_mean(self):\n",
    "        return self.mean\n",
    "    \n",
    "    def __str__(self):\n",
    "        return str(self.dish_id)+\" \" + self.dish + \": \" +str(self.mean)"
   ]
  },
  {
   "cell_type": "code",
   "execution_count": 8,
   "metadata": {},
   "outputs": [
    {
     "data": {
      "text/html": [
       "<div>\n",
       "<style scoped>\n",
       "    .dataframe tbody tr th:only-of-type {\n",
       "        vertical-align: middle;\n",
       "    }\n",
       "\n",
       "    .dataframe tbody tr th {\n",
       "        vertical-align: top;\n",
       "    }\n",
       "\n",
       "    .dataframe thead th {\n",
       "        text-align: right;\n",
       "    }\n",
       "</style>\n",
       "<table border=\"1\" class=\"dataframe\">\n",
       "  <thead>\n",
       "    <tr style=\"text-align: right;\">\n",
       "      <th></th>\n",
       "      <th>Unnamed: 0</th>\n",
       "      <th>dish_1</th>\n",
       "      <th>dish_2</th>\n",
       "      <th>dish_3</th>\n",
       "      <th>dish_4</th>\n",
       "      <th>dish_5</th>\n",
       "      <th>dish_6</th>\n",
       "      <th>dish_7</th>\n",
       "      <th>dish_8</th>\n",
       "      <th>dish_9</th>\n",
       "      <th>...</th>\n",
       "      <th>dish_115</th>\n",
       "      <th>dish_116</th>\n",
       "      <th>dish_117</th>\n",
       "      <th>dish_118</th>\n",
       "      <th>dish_119</th>\n",
       "      <th>dish_120</th>\n",
       "      <th>dish_121</th>\n",
       "      <th>dish_122</th>\n",
       "      <th>dish_123</th>\n",
       "      <th>dish_124</th>\n",
       "    </tr>\n",
       "  </thead>\n",
       "  <tbody>\n",
       "    <tr>\n",
       "      <th>0</th>\n",
       "      <td>dish id</td>\n",
       "      <td>2</td>\n",
       "      <td>3</td>\n",
       "      <td>4</td>\n",
       "      <td>5</td>\n",
       "      <td>6</td>\n",
       "      <td>7</td>\n",
       "      <td>8</td>\n",
       "      <td>9</td>\n",
       "      <td>10</td>\n",
       "      <td>...</td>\n",
       "      <td>116</td>\n",
       "      <td>117</td>\n",
       "      <td>118</td>\n",
       "      <td>119</td>\n",
       "      <td>120</td>\n",
       "      <td>121</td>\n",
       "      <td>122</td>\n",
       "      <td>123</td>\n",
       "      <td>124</td>\n",
       "      <td>125</td>\n",
       "    </tr>\n",
       "    <tr>\n",
       "      <th>1</th>\n",
       "      <td>dish</td>\n",
       "      <td>Fresh Tomato Basil Soup</td>\n",
       "      <td>Vegetable Hot &amp; Sour Soup</td>\n",
       "      <td>Manchow Vegetable Soup</td>\n",
       "      <td>Vegetable Clear Soup</td>\n",
       "      <td>Sweet Corn Vegetable Soup</td>\n",
       "      <td>Cream of Mushroom</td>\n",
       "      <td>Veg. Lemon Coriander Soup</td>\n",
       "      <td>Gazpacho Soup (Tomato, Cucumber, Bread)</td>\n",
       "      <td>Chilled Pineapple Coconut Sou</td>\n",
       "      <td>...</td>\n",
       "      <td>Stuffed Kulcha / Paratha</td>\n",
       "      <td>Stuffed Keema Kulcha/Paratha</td>\n",
       "      <td>Bread Baske</td>\n",
       "      <td>Kulhad Rabdi</td>\n",
       "      <td>Churma Ladoo</td>\n",
       "      <td>Gulab Jamun</td>\n",
       "      <td>Gulab Jamun with Ice Cream</td>\n",
       "      <td>Kesari Kheer</td>\n",
       "      <td>Banana Split</td>\n",
       "      <td>Ice Crea</td>\n",
       "    </tr>\n",
       "  </tbody>\n",
       "</table>\n",
       "<p>2 rows × 125 columns</p>\n",
       "</div>"
      ],
      "text/plain": [
       "  Unnamed: 0                   dish_1                     dish_2  \\\n",
       "0    dish id                        2                          3   \n",
       "1       dish  Fresh Tomato Basil Soup  Vegetable Hot & Sour Soup   \n",
       "\n",
       "                   dish_3                dish_4                     dish_5  \\\n",
       "0                       4                     5                          6   \n",
       "1  Manchow Vegetable Soup  Vegetable Clear Soup  Sweet Corn Vegetable Soup   \n",
       "\n",
       "              dish_6                     dish_7  \\\n",
       "0                  7                          8   \n",
       "1  Cream of Mushroom  Veg. Lemon Coriander Soup   \n",
       "\n",
       "                                    dish_8                         dish_9  \\\n",
       "0                                        9                             10   \n",
       "1  Gazpacho Soup (Tomato, Cucumber, Bread)  Chilled Pineapple Coconut Sou   \n",
       "\n",
       "   ...                  dish_115                      dish_116     dish_117  \\\n",
       "0  ...                       116                           117          118   \n",
       "1  ...  Stuffed Kulcha / Paratha  Stuffed Keema Kulcha/Paratha  Bread Baske   \n",
       "\n",
       "       dish_118      dish_119     dish_120                    dish_121  \\\n",
       "0           119           120          121                         122   \n",
       "1  Kulhad Rabdi  Churma Ladoo  Gulab Jamun  Gulab Jamun with Ice Cream   \n",
       "\n",
       "       dish_122      dish_123  dish_124  \n",
       "0           123           124       125  \n",
       "1  Kesari Kheer  Banana Split  Ice Crea  \n",
       "\n",
       "[2 rows x 125 columns]"
      ]
     },
     "execution_count": 8,
     "metadata": {},
     "output_type": "execute_result"
    }
   ],
   "source": [
    "menu_df = pd.read_excel('menu.xlsx', sheet_name='Sheet1')\n",
    "menu_df"
   ]
  },
  {
   "cell_type": "code",
   "execution_count": 9,
   "metadata": {},
   "outputs": [],
   "source": [
    "menu_df.drop('Unnamed: 0', axis=1, inplace=True)"
   ]
  },
  {
   "cell_type": "code",
   "execution_count": 10,
   "metadata": {},
   "outputs": [],
   "source": [
    "dish_id = menu_df.iloc[0]\n",
    "dish = menu_df.iloc[1]"
   ]
  },
  {
   "cell_type": "code",
   "execution_count": 11,
   "metadata": {},
   "outputs": [],
   "source": [
    "def menu(dish_id, dish, mean):\n",
    "    \"\"\"\n",
    "    dish_id, dish, mean: are lists\n",
    "    \"\"\"\n",
    "    menu_list = []\n",
    "    for i in range(len(dish_id)):\n",
    "        menu_list.append(RecByMean(dish_id=dish_id[i], dish=dish[i], mean=mean[i]))\n",
    "    \n",
    "    return menu_list"
   ]
  },
  {
   "cell_type": "code",
   "execution_count": 12,
   "metadata": {},
   "outputs": [],
   "source": [
    "dish_menu = menu(dish_id=dish_id, dish=dish, mean=y_mean)"
   ]
  },
  {
   "cell_type": "code",
   "execution_count": 13,
   "metadata": {},
   "outputs": [],
   "source": [
    "dish_menu_sorted = sorted(dish_menu, key=RecByMean.get_mean, reverse=True)"
   ]
  },
  {
   "cell_type": "code",
   "execution_count": 14,
   "metadata": {},
   "outputs": [
    {
     "name": "stdout",
     "output_type": "stream",
     "text": [
      "73 Kadai Paneer: 0.4377996935702431\n",
      "59 Palak Makki Ka Saag : 0.4338340523618342\n",
      "25 Chana Chaat Masala: 0.4329525893467665\n",
      "62 Ker Sangri: 0.4289624430581149\n",
      "31 Paneer Malai Tikka: 0.4269851247582047\n"
     ]
    },
    {
     "data": {
      "text/plain": [
       "[None, None, None, None, None]"
      ]
     },
     "execution_count": 14,
     "metadata": {},
     "output_type": "execute_result"
    }
   ],
   "source": [
    "# First 5 dishes by popularity\n",
    "rec_by_popularity = dish_menu_sorted[:5]\n",
    "[print(i) for i in rec_by_popularity]"
   ]
  },
  {
   "cell_type": "code",
   "execution_count": 15,
   "metadata": {},
   "outputs": [
    {
     "data": {
      "text/plain": [
       "68"
      ]
     },
     "execution_count": 15,
     "metadata": {},
     "output_type": "execute_result"
    }
   ],
   "source": [
    "d1_id = menu_df['dish_67'].loc[0]\n",
    "d1_id"
   ]
  },
  {
   "cell_type": "code",
   "execution_count": 16,
   "metadata": {},
   "outputs": [],
   "source": [
    "def get_rec_by_nearest(d, id):\n",
    "    result = []\n",
    "    ind = 0\n",
    "    for i in d:\n",
    "        if i.get_dish_id()==id:\n",
    "            ind = d.index(i)\n",
    "    if ind-2<0:\n",
    "        return d[:ind+5]\n",
    "    elif ind+2>len(d):\n",
    "        return d[ind-5:]\n",
    "    else:\n",
    "        return d[ind-2:ind+3]"
   ]
  },
  {
   "cell_type": "code",
   "execution_count": 17,
   "metadata": {},
   "outputs": [
    {
     "name": "stdout",
     "output_type": "stream",
     "text": [
      "58 Gatta Curry : 0.389879581675113\n",
      "112 Plain Naan : 0.3898542859783575\n",
      "68 Hing Dhaniya Ke Aloo: 0.3892718058924134\n",
      "22 Dahi Kebab: 0.3891358122553795\n",
      "55 Vegetable/Boondi/Aloo/Pudina: 0.3885205795034795\n"
     ]
    },
    {
     "data": {
      "text/plain": [
       "[None, None, None, None, None]"
      ]
     },
     "execution_count": 17,
     "metadata": {},
     "output_type": "execute_result"
    }
   ],
   "source": [
    "# five dishes by resemblence\n",
    "rec_by_resmb = get_rec_by_nearest(dish_menu_sorted, d1_id)\n",
    "[print(i) for i in rec_by_resmb]"
   ]
  },
  {
   "cell_type": "code",
   "execution_count": 18,
   "metadata": {},
   "outputs": [],
   "source": [
    "f1 = pd.read_excel('Rdata.xlsx', sheet_name='Sheet1')"
   ]
  },
  {
   "cell_type": "code",
   "execution_count": 19,
   "metadata": {},
   "outputs": [
    {
     "data": {
      "text/html": [
       "<div>\n",
       "<style scoped>\n",
       "    .dataframe tbody tr th:only-of-type {\n",
       "        vertical-align: middle;\n",
       "    }\n",
       "\n",
       "    .dataframe tbody tr th {\n",
       "        vertical-align: top;\n",
       "    }\n",
       "\n",
       "    .dataframe thead th {\n",
       "        text-align: right;\n",
       "    }\n",
       "</style>\n",
       "<table border=\"1\" class=\"dataframe\">\n",
       "  <thead>\n",
       "    <tr style=\"text-align: right;\">\n",
       "      <th></th>\n",
       "      <th>Unnamed: 0</th>\n",
       "      <th>0</th>\n",
       "      <th>1</th>\n",
       "      <th>2</th>\n",
       "      <th>3</th>\n",
       "      <th>4</th>\n",
       "      <th>5</th>\n",
       "      <th>6</th>\n",
       "      <th>7</th>\n",
       "      <th>8</th>\n",
       "      <th>...</th>\n",
       "      <th>114</th>\n",
       "      <th>115</th>\n",
       "      <th>116</th>\n",
       "      <th>117</th>\n",
       "      <th>118</th>\n",
       "      <th>119</th>\n",
       "      <th>120</th>\n",
       "      <th>121</th>\n",
       "      <th>122</th>\n",
       "      <th>123</th>\n",
       "    </tr>\n",
       "  </thead>\n",
       "  <tbody>\n",
       "    <tr>\n",
       "      <th>0</th>\n",
       "      <td>0</td>\n",
       "      <td>0</td>\n",
       "      <td>1</td>\n",
       "      <td>0</td>\n",
       "      <td>0</td>\n",
       "      <td>0</td>\n",
       "      <td>1</td>\n",
       "      <td>1</td>\n",
       "      <td>0</td>\n",
       "      <td>0</td>\n",
       "      <td>...</td>\n",
       "      <td>1</td>\n",
       "      <td>0</td>\n",
       "      <td>0</td>\n",
       "      <td>0</td>\n",
       "      <td>0</td>\n",
       "      <td>0</td>\n",
       "      <td>0</td>\n",
       "      <td>1</td>\n",
       "      <td>0</td>\n",
       "      <td>0</td>\n",
       "    </tr>\n",
       "    <tr>\n",
       "      <th>1</th>\n",
       "      <td>1</td>\n",
       "      <td>0</td>\n",
       "      <td>0</td>\n",
       "      <td>0</td>\n",
       "      <td>0</td>\n",
       "      <td>0</td>\n",
       "      <td>0</td>\n",
       "      <td>0</td>\n",
       "      <td>0</td>\n",
       "      <td>0</td>\n",
       "      <td>...</td>\n",
       "      <td>0</td>\n",
       "      <td>0</td>\n",
       "      <td>0</td>\n",
       "      <td>0</td>\n",
       "      <td>0</td>\n",
       "      <td>0</td>\n",
       "      <td>0</td>\n",
       "      <td>0</td>\n",
       "      <td>0</td>\n",
       "      <td>0</td>\n",
       "    </tr>\n",
       "    <tr>\n",
       "      <th>2</th>\n",
       "      <td>2</td>\n",
       "      <td>0</td>\n",
       "      <td>0</td>\n",
       "      <td>0</td>\n",
       "      <td>0</td>\n",
       "      <td>0</td>\n",
       "      <td>0</td>\n",
       "      <td>1</td>\n",
       "      <td>0</td>\n",
       "      <td>0</td>\n",
       "      <td>...</td>\n",
       "      <td>0</td>\n",
       "      <td>0</td>\n",
       "      <td>0</td>\n",
       "      <td>0</td>\n",
       "      <td>0</td>\n",
       "      <td>1</td>\n",
       "      <td>0</td>\n",
       "      <td>1</td>\n",
       "      <td>1</td>\n",
       "      <td>0</td>\n",
       "    </tr>\n",
       "    <tr>\n",
       "      <th>3</th>\n",
       "      <td>3</td>\n",
       "      <td>1</td>\n",
       "      <td>0</td>\n",
       "      <td>1</td>\n",
       "      <td>1</td>\n",
       "      <td>0</td>\n",
       "      <td>0</td>\n",
       "      <td>0</td>\n",
       "      <td>0</td>\n",
       "      <td>0</td>\n",
       "      <td>...</td>\n",
       "      <td>0</td>\n",
       "      <td>1</td>\n",
       "      <td>1</td>\n",
       "      <td>1</td>\n",
       "      <td>0</td>\n",
       "      <td>0</td>\n",
       "      <td>1</td>\n",
       "      <td>0</td>\n",
       "      <td>1</td>\n",
       "      <td>0</td>\n",
       "    </tr>\n",
       "    <tr>\n",
       "      <th>4</th>\n",
       "      <td>4</td>\n",
       "      <td>0</td>\n",
       "      <td>0</td>\n",
       "      <td>1</td>\n",
       "      <td>0</td>\n",
       "      <td>0</td>\n",
       "      <td>0</td>\n",
       "      <td>1</td>\n",
       "      <td>0</td>\n",
       "      <td>0</td>\n",
       "      <td>...</td>\n",
       "      <td>1</td>\n",
       "      <td>1</td>\n",
       "      <td>0</td>\n",
       "      <td>1</td>\n",
       "      <td>1</td>\n",
       "      <td>0</td>\n",
       "      <td>1</td>\n",
       "      <td>0</td>\n",
       "      <td>0</td>\n",
       "      <td>0</td>\n",
       "    </tr>\n",
       "  </tbody>\n",
       "</table>\n",
       "<p>5 rows × 125 columns</p>\n",
       "</div>"
      ],
      "text/plain": [
       "   Unnamed: 0  0  1  2  3  4  5  6  7  8  ...  114  115  116  117  118  119  \\\n",
       "0           0  0  1  0  0  0  1  1  0  0  ...    1    0    0    0    0    0   \n",
       "1           1  0  0  0  0  0  0  0  0  0  ...    0    0    0    0    0    0   \n",
       "2           2  0  0  0  0  0  0  1  0  0  ...    0    0    0    0    0    1   \n",
       "3           3  1  0  1  1  0  0  0  0  0  ...    0    1    1    1    0    0   \n",
       "4           4  0  0  1  0  0  0  1  0  0  ...    1    1    0    1    1    0   \n",
       "\n",
       "   120  121  122  123  \n",
       "0    0    1    0    0  \n",
       "1    0    0    0    0  \n",
       "2    0    1    1    0  \n",
       "3    1    0    1    0  \n",
       "4    1    0    0    0  \n",
       "\n",
       "[5 rows x 125 columns]"
      ]
     },
     "execution_count": 19,
     "metadata": {},
     "output_type": "execute_result"
    }
   ],
   "source": [
    "f1.head(5)"
   ]
  },
  {
   "cell_type": "code",
   "execution_count": 20,
   "metadata": {},
   "outputs": [],
   "source": [
    "# Runs only when start\n",
    "\n",
    "dish_item = []\n",
    "for i in range(125):\n",
    "    s = 'dish'+str(i)\n",
    "    dish_item.append(s)\n",
    "    \n",
    "f1.set_axis(dish_item, axis=1, inplace=True)\n",
    "f1.drop('dish0', axis=1, inplace=True)"
   ]
  },
  {
   "cell_type": "code",
   "execution_count": 21,
   "metadata": {},
   "outputs": [
    {
     "data": {
      "text/html": [
       "<div>\n",
       "<style scoped>\n",
       "    .dataframe tbody tr th:only-of-type {\n",
       "        vertical-align: middle;\n",
       "    }\n",
       "\n",
       "    .dataframe tbody tr th {\n",
       "        vertical-align: top;\n",
       "    }\n",
       "\n",
       "    .dataframe thead th {\n",
       "        text-align: right;\n",
       "    }\n",
       "</style>\n",
       "<table border=\"1\" class=\"dataframe\">\n",
       "  <thead>\n",
       "    <tr style=\"text-align: right;\">\n",
       "      <th></th>\n",
       "      <th>dish1</th>\n",
       "      <th>dish2</th>\n",
       "      <th>dish3</th>\n",
       "      <th>dish4</th>\n",
       "      <th>dish5</th>\n",
       "      <th>dish6</th>\n",
       "      <th>dish7</th>\n",
       "      <th>dish8</th>\n",
       "      <th>dish9</th>\n",
       "      <th>dish10</th>\n",
       "      <th>...</th>\n",
       "      <th>dish115</th>\n",
       "      <th>dish116</th>\n",
       "      <th>dish117</th>\n",
       "      <th>dish118</th>\n",
       "      <th>dish119</th>\n",
       "      <th>dish120</th>\n",
       "      <th>dish121</th>\n",
       "      <th>dish122</th>\n",
       "      <th>dish123</th>\n",
       "      <th>dish124</th>\n",
       "    </tr>\n",
       "  </thead>\n",
       "  <tbody>\n",
       "    <tr>\n",
       "      <th>0</th>\n",
       "      <td>0</td>\n",
       "      <td>1</td>\n",
       "      <td>0</td>\n",
       "      <td>0</td>\n",
       "      <td>0</td>\n",
       "      <td>1</td>\n",
       "      <td>1</td>\n",
       "      <td>0</td>\n",
       "      <td>0</td>\n",
       "      <td>1</td>\n",
       "      <td>...</td>\n",
       "      <td>1</td>\n",
       "      <td>0</td>\n",
       "      <td>0</td>\n",
       "      <td>0</td>\n",
       "      <td>0</td>\n",
       "      <td>0</td>\n",
       "      <td>0</td>\n",
       "      <td>1</td>\n",
       "      <td>0</td>\n",
       "      <td>0</td>\n",
       "    </tr>\n",
       "    <tr>\n",
       "      <th>1</th>\n",
       "      <td>0</td>\n",
       "      <td>0</td>\n",
       "      <td>0</td>\n",
       "      <td>0</td>\n",
       "      <td>0</td>\n",
       "      <td>0</td>\n",
       "      <td>0</td>\n",
       "      <td>0</td>\n",
       "      <td>0</td>\n",
       "      <td>0</td>\n",
       "      <td>...</td>\n",
       "      <td>0</td>\n",
       "      <td>0</td>\n",
       "      <td>0</td>\n",
       "      <td>0</td>\n",
       "      <td>0</td>\n",
       "      <td>0</td>\n",
       "      <td>0</td>\n",
       "      <td>0</td>\n",
       "      <td>0</td>\n",
       "      <td>0</td>\n",
       "    </tr>\n",
       "    <tr>\n",
       "      <th>2</th>\n",
       "      <td>0</td>\n",
       "      <td>0</td>\n",
       "      <td>0</td>\n",
       "      <td>0</td>\n",
       "      <td>0</td>\n",
       "      <td>0</td>\n",
       "      <td>1</td>\n",
       "      <td>0</td>\n",
       "      <td>0</td>\n",
       "      <td>0</td>\n",
       "      <td>...</td>\n",
       "      <td>0</td>\n",
       "      <td>0</td>\n",
       "      <td>0</td>\n",
       "      <td>0</td>\n",
       "      <td>0</td>\n",
       "      <td>1</td>\n",
       "      <td>0</td>\n",
       "      <td>1</td>\n",
       "      <td>1</td>\n",
       "      <td>0</td>\n",
       "    </tr>\n",
       "    <tr>\n",
       "      <th>3</th>\n",
       "      <td>1</td>\n",
       "      <td>0</td>\n",
       "      <td>1</td>\n",
       "      <td>1</td>\n",
       "      <td>0</td>\n",
       "      <td>0</td>\n",
       "      <td>0</td>\n",
       "      <td>0</td>\n",
       "      <td>0</td>\n",
       "      <td>0</td>\n",
       "      <td>...</td>\n",
       "      <td>0</td>\n",
       "      <td>1</td>\n",
       "      <td>1</td>\n",
       "      <td>1</td>\n",
       "      <td>0</td>\n",
       "      <td>0</td>\n",
       "      <td>1</td>\n",
       "      <td>0</td>\n",
       "      <td>1</td>\n",
       "      <td>0</td>\n",
       "    </tr>\n",
       "    <tr>\n",
       "      <th>4</th>\n",
       "      <td>0</td>\n",
       "      <td>0</td>\n",
       "      <td>1</td>\n",
       "      <td>0</td>\n",
       "      <td>0</td>\n",
       "      <td>0</td>\n",
       "      <td>1</td>\n",
       "      <td>0</td>\n",
       "      <td>0</td>\n",
       "      <td>0</td>\n",
       "      <td>...</td>\n",
       "      <td>1</td>\n",
       "      <td>1</td>\n",
       "      <td>0</td>\n",
       "      <td>1</td>\n",
       "      <td>1</td>\n",
       "      <td>0</td>\n",
       "      <td>1</td>\n",
       "      <td>0</td>\n",
       "      <td>0</td>\n",
       "      <td>0</td>\n",
       "    </tr>\n",
       "  </tbody>\n",
       "</table>\n",
       "<p>5 rows × 124 columns</p>\n",
       "</div>"
      ],
      "text/plain": [
       "   dish1  dish2  dish3  dish4  dish5  dish6  dish7  dish8  dish9  dish10  ...  \\\n",
       "0      0      1      0      0      0      1      1      0      0       1  ...   \n",
       "1      0      0      0      0      0      0      0      0      0       0  ...   \n",
       "2      0      0      0      0      0      0      1      0      0       0  ...   \n",
       "3      1      0      1      1      0      0      0      0      0       0  ...   \n",
       "4      0      0      1      0      0      0      1      0      0       0  ...   \n",
       "\n",
       "   dish115  dish116  dish117  dish118  dish119  dish120  dish121  dish122  \\\n",
       "0        1        0        0        0        0        0        0        1   \n",
       "1        0        0        0        0        0        0        0        0   \n",
       "2        0        0        0        0        0        1        0        1   \n",
       "3        0        1        1        1        0        0        1        0   \n",
       "4        1        1        0        1        1        0        1        0   \n",
       "\n",
       "   dish123  dish124  \n",
       "0        0        0  \n",
       "1        0        0  \n",
       "2        1        0  \n",
       "3        1        0  \n",
       "4        0        0  \n",
       "\n",
       "[5 rows x 124 columns]"
      ]
     },
     "execution_count": 21,
     "metadata": {},
     "output_type": "execute_result"
    }
   ],
   "source": [
    "f1.head(5)"
   ]
  },
  {
   "cell_type": "code",
   "execution_count": 22,
   "metadata": {},
   "outputs": [],
   "source": [
    "R_sum=f1.sum()\n"
   ]
  },
  {
   "cell_type": "code",
   "execution_count": 23,
   "metadata": {},
   "outputs": [],
   "source": [
    "R = np.array(f1)\n",
    "coccurence_matrix = np.zeros((R.shape[1], R.shape[1]), dtype=np.float)\n",
    "\n",
    "for i in R:\n",
    "    for j in range(len(i)):\n",
    "        for k in range(len(i)):\n",
    "            if i[j]==i[k]==1 and j!=k:\n",
    "                coccurence_matrix[j][k]+=1\n",
    "    "
   ]
  },
  {
   "cell_type": "code",
   "execution_count": 24,
   "metadata": {},
   "outputs": [],
   "source": [
    "for i in range(R.shape[1]):\n",
    "     coccurence_matrix[i]=coccurence_matrix[i]/R_sum[i]"
   ]
  },
  {
   "cell_type": "code",
   "execution_count": 25,
   "metadata": {},
   "outputs": [
    {
     "data": {
      "text/plain": [
       "array([[0.        , 0.25833333, 0.26481481, ..., 0.24351852, 0.25740741,\n",
       "        0.27037037],\n",
       "       [0.26271186, 0.        , 0.23258004, ..., 0.24764595, 0.25329567,\n",
       "        0.25047081],\n",
       "       [0.27984344, 0.24168297, 0.        , ..., 0.25831703, 0.26223092,\n",
       "        0.2553816 ],\n",
       "       ...,\n",
       "       [0.25683594, 0.25683594, 0.2578125 , ..., 0.        , 0.28710938,\n",
       "        0.24707031],\n",
       "       [0.25981308, 0.25140187, 0.25046729, ..., 0.27476636, 0.        ,\n",
       "        0.27383178],\n",
       "       [0.28711898, 0.26155359, 0.25663717, ..., 0.24877089, 0.28810226,\n",
       "        0.        ]])"
      ]
     },
     "execution_count": 25,
     "metadata": {},
     "output_type": "execute_result"
    }
   ],
   "source": [
    "coccurence_matrix"
   ]
  },
  {
   "cell_type": "code",
   "execution_count": 26,
   "metadata": {},
   "outputs": [
    {
     "data": {
      "text/plain": [
       "0                            8\n",
       "1    Veg. Lemon Coriander Soup\n",
       "Name: dish_7, dtype: object"
      ]
     },
     "execution_count": 26,
     "metadata": {},
     "output_type": "execute_result"
    }
   ],
   "source": [
    "menu_df['dish_7']"
   ]
  },
  {
   "cell_type": "code",
   "execution_count": 33,
   "metadata": {},
   "outputs": [],
   "source": [
    "coccurence_matrix_data = pd.DataFrame(coccurence_matrix, dish_item[1:], dish_item[1:])"
   ]
  },
  {
   "cell_type": "code",
   "execution_count": 35,
   "metadata": {},
   "outputs": [
    {
     "data": {
      "text/html": [
       "<div>\n",
       "<style scoped>\n",
       "    .dataframe tbody tr th:only-of-type {\n",
       "        vertical-align: middle;\n",
       "    }\n",
       "\n",
       "    .dataframe tbody tr th {\n",
       "        vertical-align: top;\n",
       "    }\n",
       "\n",
       "    .dataframe thead th {\n",
       "        text-align: right;\n",
       "    }\n",
       "</style>\n",
       "<table border=\"1\" class=\"dataframe\">\n",
       "  <thead>\n",
       "    <tr style=\"text-align: right;\">\n",
       "      <th></th>\n",
       "      <th>dish1</th>\n",
       "      <th>dish2</th>\n",
       "      <th>dish3</th>\n",
       "      <th>dish4</th>\n",
       "      <th>dish5</th>\n",
       "      <th>dish6</th>\n",
       "      <th>dish7</th>\n",
       "      <th>dish8</th>\n",
       "      <th>dish9</th>\n",
       "      <th>dish10</th>\n",
       "      <th>...</th>\n",
       "      <th>dish115</th>\n",
       "      <th>dish116</th>\n",
       "      <th>dish117</th>\n",
       "      <th>dish118</th>\n",
       "      <th>dish119</th>\n",
       "      <th>dish120</th>\n",
       "      <th>dish121</th>\n",
       "      <th>dish122</th>\n",
       "      <th>dish123</th>\n",
       "      <th>dish124</th>\n",
       "    </tr>\n",
       "  </thead>\n",
       "  <tbody>\n",
       "    <tr>\n",
       "      <th>dish1</th>\n",
       "      <td>0.000000</td>\n",
       "      <td>0.258333</td>\n",
       "      <td>0.264815</td>\n",
       "      <td>0.248148</td>\n",
       "      <td>0.236111</td>\n",
       "      <td>0.272222</td>\n",
       "      <td>0.249074</td>\n",
       "      <td>0.251852</td>\n",
       "      <td>0.259259</td>\n",
       "      <td>0.253704</td>\n",
       "      <td>...</td>\n",
       "      <td>0.248148</td>\n",
       "      <td>0.275000</td>\n",
       "      <td>0.285185</td>\n",
       "      <td>0.253704</td>\n",
       "      <td>0.262037</td>\n",
       "      <td>0.203704</td>\n",
       "      <td>0.249074</td>\n",
       "      <td>0.243519</td>\n",
       "      <td>0.257407</td>\n",
       "      <td>0.270370</td>\n",
       "    </tr>\n",
       "    <tr>\n",
       "      <th>dish2</th>\n",
       "      <td>0.262712</td>\n",
       "      <td>0.000000</td>\n",
       "      <td>0.232580</td>\n",
       "      <td>0.225047</td>\n",
       "      <td>0.238230</td>\n",
       "      <td>0.266478</td>\n",
       "      <td>0.253296</td>\n",
       "      <td>0.248588</td>\n",
       "      <td>0.251412</td>\n",
       "      <td>0.268362</td>\n",
       "      <td>...</td>\n",
       "      <td>0.243879</td>\n",
       "      <td>0.250471</td>\n",
       "      <td>0.261770</td>\n",
       "      <td>0.243879</td>\n",
       "      <td>0.257062</td>\n",
       "      <td>0.245763</td>\n",
       "      <td>0.258004</td>\n",
       "      <td>0.247646</td>\n",
       "      <td>0.253296</td>\n",
       "      <td>0.250471</td>\n",
       "    </tr>\n",
       "    <tr>\n",
       "      <th>dish3</th>\n",
       "      <td>0.279843</td>\n",
       "      <td>0.241683</td>\n",
       "      <td>0.000000</td>\n",
       "      <td>0.264188</td>\n",
       "      <td>0.257339</td>\n",
       "      <td>0.257339</td>\n",
       "      <td>0.251468</td>\n",
       "      <td>0.279843</td>\n",
       "      <td>0.272016</td>\n",
       "      <td>0.256360</td>\n",
       "      <td>...</td>\n",
       "      <td>0.262231</td>\n",
       "      <td>0.255382</td>\n",
       "      <td>0.252446</td>\n",
       "      <td>0.249511</td>\n",
       "      <td>0.262231</td>\n",
       "      <td>0.253425</td>\n",
       "      <td>0.261252</td>\n",
       "      <td>0.258317</td>\n",
       "      <td>0.262231</td>\n",
       "      <td>0.255382</td>\n",
       "    </tr>\n",
       "    <tr>\n",
       "      <th>dish4</th>\n",
       "      <td>0.272358</td>\n",
       "      <td>0.242886</td>\n",
       "      <td>0.274390</td>\n",
       "      <td>0.000000</td>\n",
       "      <td>0.244919</td>\n",
       "      <td>0.268293</td>\n",
       "      <td>0.241870</td>\n",
       "      <td>0.256098</td>\n",
       "      <td>0.255081</td>\n",
       "      <td>0.242886</td>\n",
       "      <td>...</td>\n",
       "      <td>0.237805</td>\n",
       "      <td>0.264228</td>\n",
       "      <td>0.273374</td>\n",
       "      <td>0.261179</td>\n",
       "      <td>0.263211</td>\n",
       "      <td>0.252033</td>\n",
       "      <td>0.231707</td>\n",
       "      <td>0.242886</td>\n",
       "      <td>0.270325</td>\n",
       "      <td>0.276423</td>\n",
       "    </tr>\n",
       "    <tr>\n",
       "      <th>dish5</th>\n",
       "      <td>0.247813</td>\n",
       "      <td>0.245870</td>\n",
       "      <td>0.255588</td>\n",
       "      <td>0.234208</td>\n",
       "      <td>0.000000</td>\n",
       "      <td>0.266278</td>\n",
       "      <td>0.257532</td>\n",
       "      <td>0.264334</td>\n",
       "      <td>0.271137</td>\n",
       "      <td>0.258503</td>\n",
       "      <td>...</td>\n",
       "      <td>0.256560</td>\n",
       "      <td>0.266278</td>\n",
       "      <td>0.274052</td>\n",
       "      <td>0.241983</td>\n",
       "      <td>0.268222</td>\n",
       "      <td>0.234208</td>\n",
       "      <td>0.269193</td>\n",
       "      <td>0.261419</td>\n",
       "      <td>0.268222</td>\n",
       "      <td>0.254616</td>\n",
       "    </tr>\n",
       "  </tbody>\n",
       "</table>\n",
       "<p>5 rows × 124 columns</p>\n",
       "</div>"
      ],
      "text/plain": [
       "          dish1     dish2     dish3     dish4     dish5     dish6     dish7  \\\n",
       "dish1  0.000000  0.258333  0.264815  0.248148  0.236111  0.272222  0.249074   \n",
       "dish2  0.262712  0.000000  0.232580  0.225047  0.238230  0.266478  0.253296   \n",
       "dish3  0.279843  0.241683  0.000000  0.264188  0.257339  0.257339  0.251468   \n",
       "dish4  0.272358  0.242886  0.274390  0.000000  0.244919  0.268293  0.241870   \n",
       "dish5  0.247813  0.245870  0.255588  0.234208  0.000000  0.266278  0.257532   \n",
       "\n",
       "          dish8     dish9    dish10  ...   dish115   dish116   dish117  \\\n",
       "dish1  0.251852  0.259259  0.253704  ...  0.248148  0.275000  0.285185   \n",
       "dish2  0.248588  0.251412  0.268362  ...  0.243879  0.250471  0.261770   \n",
       "dish3  0.279843  0.272016  0.256360  ...  0.262231  0.255382  0.252446   \n",
       "dish4  0.256098  0.255081  0.242886  ...  0.237805  0.264228  0.273374   \n",
       "dish5  0.264334  0.271137  0.258503  ...  0.256560  0.266278  0.274052   \n",
       "\n",
       "        dish118   dish119   dish120   dish121   dish122   dish123   dish124  \n",
       "dish1  0.253704  0.262037  0.203704  0.249074  0.243519  0.257407  0.270370  \n",
       "dish2  0.243879  0.257062  0.245763  0.258004  0.247646  0.253296  0.250471  \n",
       "dish3  0.249511  0.262231  0.253425  0.261252  0.258317  0.262231  0.255382  \n",
       "dish4  0.261179  0.263211  0.252033  0.231707  0.242886  0.270325  0.276423  \n",
       "dish5  0.241983  0.268222  0.234208  0.269193  0.261419  0.268222  0.254616  \n",
       "\n",
       "[5 rows x 124 columns]"
      ]
     },
     "execution_count": 35,
     "metadata": {},
     "output_type": "execute_result"
    }
   ],
   "source": [
    "coccurence_matrix_data.head(5)"
   ]
  },
  {
   "cell_type": "code",
   "execution_count": 42,
   "metadata": {},
   "outputs": [],
   "source": [
    "d1 = menu(dish_id=dish_id, dish=dish, mean=coccurence_matrix_data.loc['dish7'])"
   ]
  },
  {
   "cell_type": "code",
   "execution_count": 44,
   "metadata": {},
   "outputs": [],
   "source": [
    "d2 = sorted(d1, key=RecByMean.get_mean, reverse=True)"
   ]
  },
  {
   "cell_type": "code",
   "execution_count": 48,
   "metadata": {},
   "outputs": [
    {
     "name": "stdout",
     "output_type": "stream",
     "text": [
      "28 Fish Amritsar: 0.2875882946518668\n",
      "117 Stuffed Keema Kulcha/Paratha: 0.2875882946518668\n",
      "80 Mushroom Matar: 0.28557013118062563\n",
      "73 Kadai Paneer: 0.28355196770938446\n",
      "65 Mewari Maans Dunghaar: 0.2805247225025227\n"
     ]
    },
    {
     "data": {
      "text/plain": [
       "[None, None, None, None, None]"
      ]
     },
     "execution_count": 48,
     "metadata": {},
     "output_type": "execute_result"
    }
   ],
   "source": [
    "[print(i) for i in d2[:5]]"
   ]
  },
  {
   "cell_type": "code",
   "execution_count": 51,
   "metadata": {},
   "outputs": [
    {
     "name": "stdout",
     "output_type": "stream",
     "text": [
      "38 Chicken Tikka : 0.2905982905982906\n",
      "94 Butter Chicken: 0.2849002849002849\n",
      "31 Paneer Malai Tikka: 0.2839506172839506\n",
      "62 Ker Sangri: 0.28205128205128205\n",
      "105 Mutton Biryani with Raita: 0.2801519468186135\n"
     ]
    },
    {
     "data": {
      "text/plain": [
       "[None, None, None, None, None]"
      ]
     },
     "execution_count": 51,
     "metadata": {},
     "output_type": "execute_result"
    }
   ],
   "source": [
    "d3 = menu(dish_id=dish_id, dish=dish, mean=coccurence_matrix_data.loc['dish6'])\n",
    "d4 = sorted(d3, key=RecByMean.get_mean, reverse=True)\n",
    "[print(i) for i in d4[:5]]"
   ]
  },
  {
   "cell_type": "code",
   "execution_count": 52,
   "metadata": {},
   "outputs": [
    {
     "name": "stdout",
     "output_type": "stream",
     "text": [
      "114 Laccha Paratha : 0.2820267686424474\n",
      "80 Mushroom Matar: 0.28107074569789675\n",
      "78 Navratan Korma: 0.2801147227533461\n",
      "12 Manchow Chicken: 0.27820267686424477\n",
      "81 Khamma Special Veg: 0.27820267686424477\n"
     ]
    },
    {
     "data": {
      "text/plain": [
       "[None, None, None, None, None]"
      ]
     },
     "execution_count": 52,
     "metadata": {},
     "output_type": "execute_result"
    }
   ],
   "source": [
    "d3 = menu(dish_id=dish_id, dish=dish, mean=coccurence_matrix_data.loc['dish8'])\n",
    "d4 = sorted(d3, key=RecByMean.get_mean, reverse=True)\n",
    "[print(i) for i in d4[:5]]"
   ]
  },
  {
   "cell_type": "code",
   "execution_count": 60,
   "metadata": {},
   "outputs": [],
   "source": [
    "d5 = coccurence_matrix_data.loc['dish11']\n",
    "d6 = coccurence_matrix_data.loc['dish12']\n",
    "d7 = pd.DataFrame([d5,d6])\n",
    "d8 = d7.mean()"
   ]
  },
  {
   "cell_type": "code",
   "execution_count": 63,
   "metadata": {},
   "outputs": [
    {
     "name": "stdout",
     "output_type": "stream",
     "text": [
      "90 Chicken Tikka Masala : 0.2876263511086076\n",
      "63 Laal Maas: 0.27692526046402294\n",
      "31 Paneer Malai Tikka: 0.2767824432390237\n",
      "76 Paneer Tikka Masala: 0.2750207351095302\n",
      "28 Fish Amritsar: 0.274877917884531\n"
     ]
    },
    {
     "data": {
      "text/plain": [
       "[None, None, None, None, None]"
      ]
     },
     "execution_count": 63,
     "metadata": {},
     "output_type": "execute_result"
    }
   ],
   "source": [
    "d9 = menu(dish_id=dish_id, dish=dish, mean=d8)\n",
    "d10 = sorted(d9, key=RecByMean.get_mean, reverse=True)\n",
    "[print(i) for i in d10[:5]]"
   ]
  },
  {
   "cell_type": "code",
   "execution_count": 65,
   "metadata": {},
   "outputs": [
    {
     "name": "stdout",
     "output_type": "stream",
     "text": [
      "73 Kadai Paneer: 0.2874197165196518\n",
      "12 Manchow Chicken: 0.2869364763163964\n",
      "31 Paneer Malai Tikka: 0.2777627669681123\n",
      "124 Banana Split: 0.27681866814535716\n",
      "92 Chicken Korma : 0.27476804104185293\n"
     ]
    },
    {
     "data": {
      "text/plain": [
       "[None, None, None, None, None]"
      ]
     },
     "execution_count": 65,
     "metadata": {},
     "output_type": "execute_result"
    }
   ],
   "source": [
    "d11 = coccurence_matrix_data.loc['dish13']\n",
    "d12 = coccurence_matrix_data.loc['dish14']\n",
    "d13 = coccurence_matrix_data.loc['dish15']\n",
    "d14 = coccurence_matrix_data.loc['dish16']\n",
    "d15 = pd.DataFrame([d11,d12,d13,d14])\n",
    "d16 = d15.mean()\n",
    "\n",
    "d17 = menu(dish_id=dish_id, dish=dish, mean=d16)\n",
    "d18 = sorted(d17, key=RecByMean.get_mean, reverse=True)\n",
    "[print(i) for i in d18[:5]]"
   ]
  },
  {
   "cell_type": "code",
   "execution_count": null,
   "metadata": {},
   "outputs": [],
   "source": []
  },
  {
   "cell_type": "code",
   "execution_count": null,
   "metadata": {},
   "outputs": [],
   "source": []
  },
  {
   "cell_type": "code",
   "execution_count": null,
   "metadata": {},
   "outputs": [],
   "source": []
  },
  {
   "cell_type": "code",
   "execution_count": null,
   "metadata": {},
   "outputs": [],
   "source": []
  },
  {
   "cell_type": "code",
   "execution_count": null,
   "metadata": {},
   "outputs": [],
   "source": []
  },
  {
   "cell_type": "code",
   "execution_count": null,
   "metadata": {},
   "outputs": [],
   "source": []
  },
  {
   "cell_type": "code",
   "execution_count": null,
   "metadata": {},
   "outputs": [],
   "source": []
  },
  {
   "cell_type": "code",
   "execution_count": null,
   "metadata": {},
   "outputs": [],
   "source": [
    "d4 = sorted(d3, key=RecByMean.get_mean, reverse=True)\n",
    "[print(i) for i in d4[:5]]"
   ]
  },
  {
   "cell_type": "code",
   "execution_count": 42,
   "metadata": {},
   "outputs": [],
   "source": [
    "x1 = np.array([[0,1,1,0],[0,0,1,0],[1,1,0,0],[1,0,0,1]], dtype=np.int8)\n",
    "y1 = np.zeros((4,4), dtype=np.int8)"
   ]
  },
  {
   "cell_type": "code",
   "execution_count": 43,
   "metadata": {},
   "outputs": [
    {
     "data": {
      "text/plain": [
       "array([[0, 1, 1, 0],\n",
       "       [0, 0, 1, 0],\n",
       "       [1, 1, 0, 0],\n",
       "       [1, 0, 0, 1]], dtype=int8)"
      ]
     },
     "execution_count": 43,
     "metadata": {},
     "output_type": "execute_result"
    }
   ],
   "source": [
    "x1"
   ]
  },
  {
   "cell_type": "code",
   "execution_count": 44,
   "metadata": {},
   "outputs": [],
   "source": [
    "for i in x1:\n",
    "    for j in range(len(i)):\n",
    "        for k in range(len(i)):\n",
    "            if i[j]==i[k]==1 and j!=k:\n",
    "                y1[j][k]+=1"
   ]
  },
  {
   "cell_type": "code",
   "execution_count": 45,
   "metadata": {},
   "outputs": [
    {
     "name": "stdout",
     "output_type": "stream",
     "text": [
      "1 2\n",
      "2 1\n"
     ]
    }
   ],
   "source": [
    "lk = [0,1,1,0]\n",
    "for i in range(len(lk)):\n",
    "    for j in range(len(lk)):\n",
    "        if lk[i]==1 and lk[j]==1 and i != j:\n",
    "            print(i,j)"
   ]
  },
  {
   "cell_type": "code",
   "execution_count": 47,
   "metadata": {},
   "outputs": [
    {
     "data": {
      "text/plain": [
       "0    2\n",
       "1    2\n",
       "2    1\n",
       "3    1\n",
       "dtype: int64"
      ]
     },
     "execution_count": 47,
     "metadata": {},
     "output_type": "execute_result"
    }
   ],
   "source": [
    "pd.DataFrame(y1).sum()"
   ]
  },
  {
   "cell_type": "code",
   "execution_count": 48,
   "metadata": {},
   "outputs": [
    {
     "data": {
      "text/plain": [
       "array([[0, 1, 0, 1],\n",
       "       [1, 0, 1, 0],\n",
       "       [0, 1, 0, 0],\n",
       "       [1, 0, 0, 0]], dtype=int8)"
      ]
     },
     "execution_count": 48,
     "metadata": {},
     "output_type": "execute_result"
    }
   ],
   "source": [
    "y1"
   ]
  },
  {
   "cell_type": "code",
   "execution_count": null,
   "metadata": {},
   "outputs": [],
   "source": []
  },
  {
   "cell_type": "code",
   "execution_count": null,
   "metadata": {},
   "outputs": [],
   "source": []
  },
  {
   "cell_type": "code",
   "execution_count": null,
   "metadata": {},
   "outputs": [],
   "source": []
  },
  {
   "cell_type": "code",
   "execution_count": null,
   "metadata": {},
   "outputs": [],
   "source": []
  },
  {
   "cell_type": "code",
   "execution_count": null,
   "metadata": {},
   "outputs": [],
   "source": []
  },
  {
   "cell_type": "code",
   "execution_count": null,
   "metadata": {},
   "outputs": [],
   "source": []
  },
  {
   "cell_type": "code",
   "execution_count": 34,
   "metadata": {},
   "outputs": [],
   "source": [
    "x = np.array([[1,2,3,4],[2,4,6,8],[1,3,5,7]], dtype=np.int)\n",
    "m1 = pd.DataFrame(x)"
   ]
  },
  {
   "cell_type": "code",
   "execution_count": 35,
   "metadata": {},
   "outputs": [
    {
     "data": {
      "text/plain": [
       "array([[1, 2, 3, 4],\n",
       "       [2, 4, 6, 8],\n",
       "       [1, 3, 5, 7]])"
      ]
     },
     "execution_count": 35,
     "metadata": {},
     "output_type": "execute_result"
    }
   ],
   "source": [
    "x"
   ]
  },
  {
   "cell_type": "code",
   "execution_count": 38,
   "metadata": {},
   "outputs": [
    {
     "data": {
      "text/plain": [
       "0    1.333333\n",
       "1    3.000000\n",
       "2    4.666667\n",
       "3    6.333333\n",
       "dtype: float64"
      ]
     },
     "execution_count": 38,
     "metadata": {},
     "output_type": "execute_result"
    }
   ],
   "source": [
    "m1.mean()"
   ]
  },
  {
   "cell_type": "code",
   "execution_count": 21,
   "metadata": {},
   "outputs": [],
   "source": [
    "x = np.zeros((1, 6), dtype=np.int8)"
   ]
  },
  {
   "cell_type": "code",
   "execution_count": 28,
   "metadata": {},
   "outputs": [
    {
     "data": {
      "text/plain": [
       "0"
      ]
     },
     "execution_count": 28,
     "metadata": {},
     "output_type": "execute_result"
    }
   ],
   "source": [
    "x[0][5]"
   ]
  },
  {
   "cell_type": "code",
   "execution_count": 30,
   "metadata": {},
   "outputs": [],
   "source": [
    "y = np.array([2,4,3,6,7,9])"
   ]
  },
  {
   "cell_type": "code",
   "execution_count": 35,
   "metadata": {},
   "outputs": [
    {
     "data": {
      "text/plain": [
       "int"
      ]
     },
     "execution_count": 35,
     "metadata": {},
     "output_type": "execute_result"
    }
   ],
   "source": [
    "type(y.size)"
   ]
  },
  {
   "cell_type": "code",
   "execution_count": 48,
   "metadata": {},
   "outputs": [],
   "source": [
    "for i in range(y.size):\n",
    "    if y[i]%3==0:\n",
    "        x[0][i]=1\n",
    "        "
   ]
  },
  {
   "cell_type": "code",
   "execution_count": 44,
   "metadata": {},
   "outputs": [
    {
     "data": {
      "text/plain": [
       "array([2, 4, 3, 6, 7, 9])"
      ]
     },
     "execution_count": 44,
     "metadata": {},
     "output_type": "execute_result"
    }
   ],
   "source": [
    "y"
   ]
  },
  {
   "cell_type": "code",
   "execution_count": 47,
   "metadata": {},
   "outputs": [
    {
     "data": {
      "text/plain": [
       "6"
      ]
     },
     "execution_count": 47,
     "metadata": {},
     "output_type": "execute_result"
    }
   ],
   "source": [
    "np.size(x)"
   ]
  },
  {
   "cell_type": "code",
   "execution_count": 50,
   "metadata": {},
   "outputs": [],
   "source": [
    "z = np.zeros((3,4), dtype=np.int8)"
   ]
  },
  {
   "cell_type": "code",
   "execution_count": 51,
   "metadata": {},
   "outputs": [
    {
     "data": {
      "text/plain": [
       "array([[0, 0, 0, 0],\n",
       "       [0, 0, 0, 0],\n",
       "       [0, 0, 0, 0]], dtype=int8)"
      ]
     },
     "execution_count": 51,
     "metadata": {},
     "output_type": "execute_result"
    }
   ],
   "source": [
    "z"
   ]
  },
  {
   "cell_type": "code",
   "execution_count": 52,
   "metadata": {},
   "outputs": [],
   "source": [
    "t = np.array([[2,4,6,9], [1,3,5,8], [3,7,8,2]])"
   ]
  },
  {
   "cell_type": "code",
   "execution_count": 53,
   "metadata": {},
   "outputs": [
    {
     "data": {
      "text/plain": [
       "array([[2, 4, 6, 9],\n",
       "       [1, 3, 5, 8],\n",
       "       [3, 7, 8, 2]])"
      ]
     },
     "execution_count": 53,
     "metadata": {},
     "output_type": "execute_result"
    }
   ],
   "source": [
    "t"
   ]
  },
  {
   "cell_type": "code",
   "execution_count": 59,
   "metadata": {},
   "outputs": [],
   "source": [
    "for i in range(np.shape(t)[0]):\n",
    "    for j in range(np.shape(t)[1]):\n",
    "        if t[i][j] % 3 == 0:\n",
    "            z[i][j] = 1"
   ]
  },
  {
   "cell_type": "code",
   "execution_count": 60,
   "metadata": {},
   "outputs": [
    {
     "data": {
      "text/plain": [
       "array([[0, 0, 1, 1],\n",
       "       [0, 1, 0, 0],\n",
       "       [1, 0, 0, 0]], dtype=int8)"
      ]
     },
     "execution_count": 60,
     "metadata": {},
     "output_type": "execute_result"
    }
   ],
   "source": [
    "z"
   ]
  },
  {
   "cell_type": "code",
   "execution_count": 19,
   "metadata": {},
   "outputs": [],
   "source": []
  },
  {
   "cell_type": "code",
   "execution_count": null,
   "metadata": {},
   "outputs": [
    {
     "name": "stderr",
     "output_type": "stream",
     "text": [
      "c:\\users\\amit\\appdata\\local\\programs\\python\\python37-32\\lib\\site-packages\\pandas\\util\\_decorators.py:188: FutureWarning: The `sheetname` keyword is deprecated, use `sheet_name` instead\n",
      "  return func(*args, **kwargs)\n"
     ]
    }
   ],
   "source": [
    "F = pd.read_excel('X.xlsx', sheet_name='Sheet1')"
   ]
  },
  {
   "cell_type": "code",
   "execution_count": 2,
   "metadata": {},
   "outputs": [],
   "source": []
  },
  {
   "cell_type": "code",
   "execution_count": 23,
   "metadata": {},
   "outputs": [],
   "source": [
    "x = [np.array([[1,2,4,5],[2,5,7,8],[4,5,8,9]]), np.array([[2,3,4,5],[4,5,7,8],[2,4,6,8]])]"
   ]
  },
  {
   "cell_type": "code",
   "execution_count": 36,
   "metadata": {},
   "outputs": [
    {
     "data": {
      "text/plain": [
       "[array([[1, 2, 4, 5],\n",
       "        [2, 5, 7, 8],\n",
       "        [4, 5, 8, 9]]), array([[2, 3, 4, 5],\n",
       "        [4, 5, 7, 8],\n",
       "        [2, 4, 6, 8]])]"
      ]
     },
     "execution_count": 36,
     "metadata": {},
     "output_type": "execute_result"
    }
   ],
   "source": [
    "x"
   ]
  },
  {
   "cell_type": "code",
   "execution_count": 27,
   "metadata": {},
   "outputs": [
    {
     "data": {
      "text/plain": [
       "array([2.33333333, 4.        , 6.33333333, 7.33333333])"
      ]
     },
     "execution_count": 27,
     "metadata": {},
     "output_type": "execute_result"
    }
   ],
   "source": [
    "np.average(x[0], axis=0)"
   ]
  },
  {
   "cell_type": "code",
   "execution_count": 31,
   "metadata": {},
   "outputs": [],
   "source": [
    "z=np.array(x)"
   ]
  },
  {
   "cell_type": "code",
   "execution_count": 38,
   "metadata": {},
   "outputs": [
    {
     "data": {
      "text/plain": [
       "array([[4, 5, 8, 9],\n",
       "       [4, 5, 7, 8]])"
      ]
     },
     "execution_count": 38,
     "metadata": {},
     "output_type": "execute_result"
    }
   ],
   "source": [
    "z.max(axis=1)"
   ]
  },
  {
   "cell_type": "code",
   "execution_count": 13,
   "metadata": {},
   "outputs": [],
   "source": [
    "y = np.zeros((4,5))"
   ]
  },
  {
   "cell_type": "code",
   "execution_count": null,
   "metadata": {},
   "outputs": [],
   "source": [
    "pd.DataFrame(x)"
   ]
  },
  {
   "cell_type": "code",
   "execution_count": 4,
   "metadata": {},
   "outputs": [],
   "source": [
    "x = np.random.rand(3,4)"
   ]
  },
  {
   "cell_type": "code",
   "execution_count": 6,
   "metadata": {},
   "outputs": [],
   "source": [
    "xdf = pd.DataFrame(x)"
   ]
  },
  {
   "cell_type": "code",
   "execution_count": 18,
   "metadata": {},
   "outputs": [
    {
     "name": "stderr",
     "output_type": "stream",
     "text": [
      "c:\\users\\amit\\appdata\\local\\programs\\python\\python37-32\\lib\\site-packages\\ipykernel_launcher.py:2: FutureWarning: set_axis currently defaults to operating inplace.\n",
      "This will change in a future version of pandas, use inplace=True to avoid this warning.\n",
      "  \n"
     ]
    }
   ],
   "source": [
    "l = ['a', 'b', 'c','d',]\n",
    "xdf.set_axis(l, axis=1)"
   ]
  },
  {
   "cell_type": "code",
   "execution_count": 19,
   "metadata": {},
   "outputs": [
    {
     "data": {
      "text/html": [
       "<div>\n",
       "<style scoped>\n",
       "    .dataframe tbody tr th:only-of-type {\n",
       "        vertical-align: middle;\n",
       "    }\n",
       "\n",
       "    .dataframe tbody tr th {\n",
       "        vertical-align: top;\n",
       "    }\n",
       "\n",
       "    .dataframe thead th {\n",
       "        text-align: right;\n",
       "    }\n",
       "</style>\n",
       "<table border=\"1\" class=\"dataframe\">\n",
       "  <thead>\n",
       "    <tr style=\"text-align: right;\">\n",
       "      <th></th>\n",
       "      <th>a</th>\n",
       "      <th>b</th>\n",
       "      <th>c</th>\n",
       "      <th>d</th>\n",
       "    </tr>\n",
       "  </thead>\n",
       "  <tbody>\n",
       "    <tr>\n",
       "      <th>a</th>\n",
       "      <td>0.368905</td>\n",
       "      <td>0.968762</td>\n",
       "      <td>0.674643</td>\n",
       "      <td>0.735551</td>\n",
       "    </tr>\n",
       "    <tr>\n",
       "      <th>b</th>\n",
       "      <td>0.276834</td>\n",
       "      <td>0.479628</td>\n",
       "      <td>0.745522</td>\n",
       "      <td>0.737750</td>\n",
       "    </tr>\n",
       "    <tr>\n",
       "      <th>c</th>\n",
       "      <td>0.604545</td>\n",
       "      <td>0.086765</td>\n",
       "      <td>0.691858</td>\n",
       "      <td>0.545404</td>\n",
       "    </tr>\n",
       "  </tbody>\n",
       "</table>\n",
       "</div>"
      ],
      "text/plain": [
       "          a         b         c         d\n",
       "a  0.368905  0.968762  0.674643  0.735551\n",
       "b  0.276834  0.479628  0.745522  0.737750\n",
       "c  0.604545  0.086765  0.691858  0.545404"
      ]
     },
     "execution_count": 19,
     "metadata": {},
     "output_type": "execute_result"
    }
   ],
   "source": [
    "xdf"
   ]
  },
  {
   "cell_type": "code",
   "execution_count": 2,
   "metadata": {},
   "outputs": [
    {
     "data": {
      "text/plain": [
       "[1, 2, 3, 4, 5, 6, 7, 8, 9, 10]"
      ]
     },
     "execution_count": 2,
     "metadata": {},
     "output_type": "execute_result"
    }
   ],
   "source": [
    "list(range(1,11))"
   ]
  },
  {
   "cell_type": "code",
   "execution_count": null,
   "metadata": {},
   "outputs": [],
   "source": []
  }
 ],
 "metadata": {
  "kernelspec": {
   "display_name": "Python 3",
   "language": "python",
   "name": "python3"
  },
  "language_info": {
   "codemirror_mode": {
    "name": "ipython",
    "version": 3
   },
   "file_extension": ".py",
   "mimetype": "text/x-python",
   "name": "python",
   "nbconvert_exporter": "python",
   "pygments_lexer": "ipython3",
   "version": "3.7.2"
  }
 },
 "nbformat": 4,
 "nbformat_minor": 2
}
