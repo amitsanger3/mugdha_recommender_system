{
 "cells": [
  {
   "cell_type": "code",
   "execution_count": 1,
   "metadata": {},
   "outputs": [],
   "source": [
    "import numpy as np\n",
    "import pandas as pd\n",
    "import matplotlib.pyplot as plt\n",
    "import seaborn as sns\n",
    "import sqlite3 as sq\n",
    "from sklearn.model_selection import train_test_split\n",
    "import datetime\n",
    "import math\n",
    "import random"
   ]
  },
  {
   "cell_type": "code",
   "execution_count": 3,
   "metadata": {},
   "outputs": [],
   "source": [
    "from recommendations import *"
   ]
  },
  {
   "cell_type": "code",
   "execution_count": 4,
   "metadata": {},
   "outputs": [],
   "source": [
    "%matplotlib inline"
   ]
  },
  {
   "cell_type": "code",
   "execution_count": 5,
   "metadata": {},
   "outputs": [
    {
     "data": {
      "text/html": [
       "<div>\n",
       "<style scoped>\n",
       "    .dataframe tbody tr th:only-of-type {\n",
       "        vertical-align: middle;\n",
       "    }\n",
       "\n",
       "    .dataframe tbody tr th {\n",
       "        vertical-align: top;\n",
       "    }\n",
       "\n",
       "    .dataframe thead th {\n",
       "        text-align: right;\n",
       "    }\n",
       "</style>\n",
       "<table border=\"1\" class=\"dataframe\">\n",
       "  <thead>\n",
       "    <tr style=\"text-align: right;\">\n",
       "      <th></th>\n",
       "      <th>id</th>\n",
       "      <th>guest_order_id</th>\n",
       "      <th>guest_to_attend_id</th>\n",
       "      <th>guest_order_ratings</th>\n",
       "    </tr>\n",
       "  </thead>\n",
       "  <tbody>\n",
       "    <tr>\n",
       "      <th>0</th>\n",
       "      <td>1</td>\n",
       "      <td>72</td>\n",
       "      <td>2</td>\n",
       "      <td>4</td>\n",
       "    </tr>\n",
       "    <tr>\n",
       "      <th>1</th>\n",
       "      <td>2</td>\n",
       "      <td>68</td>\n",
       "      <td>2</td>\n",
       "      <td>3</td>\n",
       "    </tr>\n",
       "    <tr>\n",
       "      <th>2</th>\n",
       "      <td>3</td>\n",
       "      <td>33</td>\n",
       "      <td>1</td>\n",
       "      <td>4</td>\n",
       "    </tr>\n",
       "    <tr>\n",
       "      <th>3</th>\n",
       "      <td>4</td>\n",
       "      <td>73</td>\n",
       "      <td>1</td>\n",
       "      <td>3</td>\n",
       "    </tr>\n",
       "    <tr>\n",
       "      <th>4</th>\n",
       "      <td>5</td>\n",
       "      <td>67</td>\n",
       "      <td>3</td>\n",
       "      <td>5</td>\n",
       "    </tr>\n",
       "  </tbody>\n",
       "</table>\n",
       "</div>"
      ],
      "text/plain": [
       "   id  guest_order_id  guest_to_attend_id  guest_order_ratings\n",
       "0   1              72                   2                    4\n",
       "1   2              68                   2                    3\n",
       "2   3              33                   1                    4\n",
       "3   4              73                   1                    3\n",
       "4   5              67                   3                    5"
      ]
     },
     "execution_count": 5,
     "metadata": {},
     "output_type": "execute_result"
    }
   ],
   "source": [
    "con = sq.connect('db.sqlite3')\n",
    "\n",
    "df_dish = pd.read_sql_query(\"Select * From home_dish\", con)\n",
    "dish_id = df_dish['id'].to_list()\n",
    "dish = df_dish['item'].to_list()\n",
    "\n",
    "df_guest = pd.read_sql_query(\"Select * From home_guest\", con)\n",
    "guest_id = df_guest['id'].to_list()\n",
    "guest_mobile = df_guest['mobile']\n",
    "\n",
    "df_order = pd.read_sql_query(\"Select * From home_order\", con)\n",
    "guest_order_id = df_order['guest_order_id']\n",
    "guest_to_attend_id = df_order['guest_to_attend_id']\n",
    "df_order.head()"
   ]
  },
  {
   "cell_type": "code",
   "execution_count": 6,
   "metadata": {},
   "outputs": [],
   "source": [
    "class PrecisionRecallEvaluation(object):\n",
    "    \"\"\"\n",
    "    Evaluate Precision-Recall curve on diffrent recommendatons\n",
    "    \"\"\"\n",
    "    \n",
    "    def __init__(self, test_data, train_data, dish_id, dishes, order_matrix, rating_matrix, co_occurence_matrix):\n",
    "        \"\"\"\n",
    "        Initialize:\n",
    "        test_data = Part of data we select for testing our algorithm.\n",
    "        train_data = Part of data we select for train our algorithm.\n",
    "        dish_id = list of ids of dishes.\n",
    "        dishes = list of all dishes.\n",
    "        order_matrix = Matrix of guest's orders of size(no. of total\n",
    "        guests attended,no. of all dish served), of values 0 & 1.\n",
    "        rating_matrix = Matrix of ratings given by guests to the \n",
    "        perticular dishes. If a guest gives multiple time ratings to\n",
    "        a dish, it takes mean of all ratings. 0.0 otherwise.\n",
    "        co_occurence_matrix = Co-occurence matrix of orders. If any\n",
    "        combination of dishes match with order adds 1 with the value,\n",
    "        otherwise 0.\n",
    "        \"\"\"\n",
    "        self.test = test_data\n",
    "        self.train = train_data\n",
    "        self.dish_id = dish_id\n",
    "        self.dish = dish\n",
    "        self.om = order_matrix\n",
    "        self.rm = rating_matrix\n",
    "        self.com = co_occurence_matrix\n",
    "        \n",
    "        \n",
    "    def get_sample(self, population, percent):\n",
    "        \"\"\"\n",
    "        Get percent of sample of given Population.\n",
    "        \n",
    "        Parameters;\n",
    "        population= list of populations samples\n",
    "        percent = float of percent we need from population\n",
    "        \"\"\"\n",
    "        sample_size = int(len(population)*percent)\n",
    "        random.seed(0)\n",
    "        sample = random.sample(population, sample_size)\n",
    "        \n",
    "        return sample\n",
    "    \n",
    "    \n",
    "    def commen_guests(self, percent):\n",
    "        \"\"\"\n",
    "        Commen guests from training & testing data set.\n",
    "        \n",
    "        Parameters:\n",
    "        percent=float of percent of commen guests we need.\n",
    "        \"\"\"\n",
    "        guests = list(set(self.train['guest_to_attend_id']).intersection(set(self.test['guest_to_attend_id'])))\n",
    "        guests_samples = self.get_sample(guests, percent)\n",
    "        \n",
    "        return guests_samples\n",
    "    \n",
    "    \n",
    "    def precision_recall_lists(self, percent):\n",
    "        \"\"\"\n",
    "        To get average precision recall lists on diffrent recommendations.\n",
    "        We iterate on number of recommendations to get that they are in \n",
    "        our test set or not. For e.g. first we check of first recomendation\n",
    "        then first two and then first three and so on.\n",
    "        \n",
    "        Parameters;\n",
    "        percent=float of percent of commen guests we need.\n",
    "        \"\"\"\n",
    "        # Initiakize instance\n",
    "        rec = Recommendations()\n",
    "        \n",
    "        guests = self.commen_guests(percent) # get commen guets\n",
    "        \n",
    "        # Dish's id list of Recommendations by popularity\n",
    "        rec_by_popularity = [i.get_dish_id() for i in rec.get_recommendations_by_popularity(self.dish_id, self.dish, self.om)]\n",
    "        # Dish's id list of Recommendations by RATINGS\n",
    "        rec_by_ratings = [i.get_dish_id() for i in rec.get_recommendations_by_highest_ratings(self.dish_id, self.dish, self.rm)]\n",
    "        \n",
    "        cut_off = list(range(1,11)) # To iterate number of recommendation in each iteration\n",
    "        N = float(len(rec_by_popularity))\n",
    "        \n",
    "        rec_hr_avg_precision = [] # Average precision list of recommendations by highest ratings\n",
    "        rec_hr_avg_recall = [] # Average recall list of recommendations by highest ratings\n",
    "        \n",
    "        rec_pop_avg_precision = [] # Average precision list of recommendations by popularity\n",
    "        rec_pop_avg_recall = [] # Average recall list of recommendations by popularity\n",
    "        \n",
    "        rec_com_avg_precision = [] # Average precision list of recommendations by co-occurence\n",
    "        rec_com_avg_recall = [] # Average recall list of recommendations by co-occurence\n",
    "        \n",
    "        for i in cut_off:\n",
    "            hr_precision = 0.0\n",
    "            hr_recall = 0.0\n",
    "\n",
    "            pop_precision = 0.0\n",
    "            pop_recall = 0.0\n",
    "\n",
    "            com_precision = 0.0\n",
    "            com_recall = 0.0\n",
    "            for guest in guests:\n",
    "                # guest_set: list of dishes ids which already ordered by guest\n",
    "                guest_set = list(self.test[self.test['guest_to_attend_id']==int(guest)]['guest_order_id'])     \n",
    "                # Calculating recommendations by co_occurence\n",
    "                train_order_dishes = list(self.train[self.train['guest_to_attend_id']==guest]['guest_order_id'])\n",
    "                rec_by_co_occurence = [i.get_dish_id() for i in rec.get_recommendations_by_occurence(train_order_dishes, self.dish_id, self.dish, self.com)][:i]\n",
    "                \n",
    "                # First i recommendations\n",
    "                rec_by_co_occurence_i = rec_by_co_occurence[:i]\n",
    "                rec_by_popularity_i = rec_by_popularity[:i]\n",
    "                rec_by_ratings_i = rec_by_ratings[:i]\n",
    "                \n",
    "                # hit_set: Commen dishes in test_set of guest and our recommendations\n",
    "                hit_set_hr = len(set(guest_set).intersection(set(rec_by_ratings_i))) # hit_set: highest ratings\n",
    "                hit_set_pop = len(set(guest_set).intersection(set(rec_by_popularity_i))) # hit_set: popularity\n",
    "                hit_set_com = len(set(guest_set).intersection(set(rec_by_co_occurence_i))) # hit_set: co-occurence\n",
    "                \n",
    "                hr_precision += hit_set_hr/float(i)\n",
    "                hr_recall += hit_set_hr/len(guest_set)\n",
    "                \n",
    "                pop_precision += hit_set_pop/float(i)\n",
    "                pop_recall += hit_set_pop/len(guest_set)\n",
    "                \n",
    "                com_precision += hit_set_com/float(i)\n",
    "                com_recall += hit_set_com/len(guest_set)\n",
    "                \n",
    "            rec_hr_avg_precision.append(hr_precision/len(guests))\n",
    "            rec_hr_avg_recall.append(hr_recall/len(guests))\n",
    "\n",
    "            rec_pop_avg_precision.append(pop_precision/len(guests))\n",
    "            rec_pop_avg_recall.append(pop_recall/len(guests))\n",
    "\n",
    "            rec_com_avg_precision.append(com_precision/len(guests))\n",
    "            rec_com_avg_recall.append(com_recall/len(guests))\n",
    "            \n",
    "        return rec_hr_avg_precision, rec_hr_avg_recall, rec_pop_avg_precision, rec_pop_avg_recall, rec_com_avg_precision, rec_com_avg_recall\n",
    "    \n",
    "    \n",
    "    def precision_recall_evaluation(self, percent):\n",
    "        \"\"\"\n",
    "        Graphical Evaluations of precision-recall curve\n",
    "        on diffrent Recommendation Algorithm.\n",
    "        \n",
    "        Parameters:\n",
    "        percent=float of percent of commen guests we need.\n",
    "        \n",
    "        Output:\n",
    "        A graphical figure plotting precision-recall curvers\n",
    "        on diffrent recommendations algorithms.\n",
    "        \"\"\"\n",
    "        hr_precision, hr_recall, pop_precision, pop_recall, com_precision, com_recall = self.precision_recall_lists(percent)\n",
    "        print('Plotting Precision-Recall curve on diffrent Recommendations \\n')\n",
    "        plt.plot(hr_precision, hr_recall, label='Highest Ratings')\n",
    "        plt.plot(pop_precision, pop_recall, label='Popularity')\n",
    "        plt.plot(com_precision, com_recall, label='co-occurence')\n",
    "        plt.legend()\n",
    "        plt.title('Evalution on Recommendations')\n",
    "        plt.xlabel('Recall')\n",
    "        plt.ylabel('Precision')\n",
    "        plt.show()\n",
    "        \n",
    "        return None"
   ]
  },
  {
   "cell_type": "code",
   "execution_count": 7,
   "metadata": {},
   "outputs": [],
   "source": [
    "rc = Recommendations()"
   ]
  },
  {
   "cell_type": "code",
   "execution_count": 9,
   "metadata": {},
   "outputs": [],
   "source": [
    "train, test = rc.get_training_test_data(df_order, 0.25, 0.1, 100)"
   ]
  },
  {
   "cell_type": "code",
   "execution_count": null,
   "metadata": {},
   "outputs": [],
   "source": []
  },
  {
   "cell_type": "code",
   "execution_count": 10,
   "metadata": {},
   "outputs": [],
   "source": [
    "om, rm = rc.get_order_and_ratings_matrix(train)"
   ]
  },
  {
   "cell_type": "code",
   "execution_count": 11,
   "metadata": {},
   "outputs": [],
   "source": [
    "com = rc.get_co_occurrence_matrix(om)"
   ]
  },
  {
   "cell_type": "code",
   "execution_count": null,
   "metadata": {},
   "outputs": [],
   "source": []
  },
  {
   "cell_type": "code",
   "execution_count": 15,
   "metadata": {},
   "outputs": [],
   "source": [
    "eva = PrecisionRecallEvaluation(test, train, dish_id, dish, om, rm,com)"
   ]
  },
  {
   "cell_type": "code",
   "execution_count": 19,
   "metadata": {},
   "outputs": [
    {
     "name": "stdout",
     "output_type": "stream",
     "text": [
      "Plotting Precision-Recall curve on diffrent Recommendations \n",
      "\n"
     ]
    },
    {
     "data": {
      "image/png": "[encoded data removed]",
      "text/plain": [
       "<Figure size 432x288 with 1 Axes>"
      ]
     },
     "metadata": {
      "needs_background": "light"
     },
     "output_type": "display_data"
    },
    {
     "name": "stdout",
     "output_type": "stream",
     "text": [
      "1:51:23.731152 time taken\n"
     ]
    }
   ],
   "source": [
    "start = datetime.datetime.now()\n",
    "eva.precision_recall_evaluation(0.5)\n",
    "print(str(datetime.datetime.now() - start), \"time taken\")"
   ]
  },
  {
   "cell_type": "code",
   "execution_count": 13,
   "metadata": {},
   "outputs": [
    {
     "data": {
      "text/plain": [
       "[0.0016454134101192926,\n",
       " 0.004524886877828056,\n",
       " 0.006993006993006992,\n",
       " 0.010283833813245574,\n",
       " 0.013986013986013979,\n",
       " 0.015220074043603447,\n",
       " 0.01686548745372274,\n",
       " 0.01933360756890168,\n",
       " 0.020567667626491145,\n",
       " 0.02262443438914026]"
      ]
     },
     "execution_count": 13,
     "metadata": {},
     "output_type": "execute_result"
    }
   ],
   "source": [
    "hp"
   ]
  },
  {
   "cell_type": "code",
   "execution_count": 14,
   "metadata": {
    "scrolled": true
   },
   "outputs": [
    {
     "data": {
      "text/plain": [
       "[0.0049362402303578775,\n",
       " 0.01532911532911533,\n",
       " 0.021895475062895874,\n",
       " 0.03349498666240747,\n",
       " 0.041384972493569774,\n",
       " 0.043140783299154335,\n",
       " 0.04980242231373452,\n",
       " 0.054879453126059456,\n",
       " 0.05865019219091617,\n",
       " 0.06600313336738677]"
      ]
     },
     "execution_count": 14,
     "metadata": {},
     "output_type": "execute_result"
    }
   ],
   "source": [
    "hr"
   ]
  },
  {
   "cell_type": "code",
   "execution_count": 15,
   "metadata": {},
   "outputs": [
    {
     "data": {
      "text/plain": [
       "[0.0115995115995116,\n",
       " 0.019489497430673904,\n",
       " 0.026055857164454445,\n",
       " 0.036448732263211894,\n",
       " 0.041384972493569774,\n",
       " 0.04804661150814996,\n",
       " 0.053123642320474895,\n",
       " 0.054879453126059456,\n",
       " 0.06000961707975282,\n",
       " 0.0673625582562234]"
      ]
     },
     "execution_count": 15,
     "metadata": {},
     "output_type": "execute_result"
    }
   ],
   "source": [
    "pr"
   ]
  },
  {
   "cell_type": "code",
   "execution_count": 16,
   "metadata": {},
   "outputs": [
    {
     "data": {
      "text/plain": [
       "[<matplotlib.lines.Line2D at 0x152dd30>]"
      ]
     },
     "execution_count": 16,
     "metadata": {},
     "output_type": "execute_result"
    },
    {
     "data": {
      "image/png": "[encoded data removed]",
      "text/plain": [
       "<Figure size 432x288 with 1 Axes>"
      ]
     },
     "metadata": {
      "needs_background": "light"
     },
     "output_type": "display_data"
    }
   ],
   "source": [
    "plt.plot(hr,hp)"
   ]
  },
  {
   "cell_type": "code",
   "execution_count": 17,
   "metadata": {},
   "outputs": [
    {
     "data": {
      "text/plain": [
       "[<matplotlib.lines.Line2D at 0x15d59d0>]"
      ]
     },
     "execution_count": 17,
     "metadata": {},
     "output_type": "execute_result"
    },
    {
     "data": {
      "image/png": "[encoded data removed]",
      "text/plain": [
       "<Figure size 432x288 with 1 Axes>"
      ]
     },
     "metadata": {
      "needs_background": "light"
     },
     "output_type": "display_data"
    }
   ],
   "source": [
    "plt.plot(pr,pp)"
   ]
  },
  {
   "cell_type": "code",
   "execution_count": 18,
   "metadata": {},
   "outputs": [
    {
     "data": {
      "text/plain": [
       "[<matplotlib.lines.Line2D at 0x161c850>]"
      ]
     },
     "execution_count": 18,
     "metadata": {},
     "output_type": "execute_result"
    },
    {
     "data": {
      "image/png": "[encoded data removed]",
      "text/plain": [
       "<Figure size 432x288 with 1 Axes>"
      ]
     },
     "metadata": {
      "needs_background": "light"
     },
     "output_type": "display_data"
    }
   ],
   "source": [
    "plt.plot(cp,cr)"
   ]
  },
  {
   "cell_type": "code",
   "execution_count": 101,
   "metadata": {},
   "outputs": [
    {
     "data": {
      "text/plain": [
       "[0.01044011067723804,\n",
       " 0.017256630501887957,\n",
       " 0.024443209605811263,\n",
       " 0.03339387577192459,\n",
       " 0.04133527192470288,\n",
       " 0.048070005624206213,\n",
       " 0.05703947512890607,\n",
       " 0.06643504229886349,\n",
       " 0.07318531864602326,\n",
       " 0.08284068636372155]"
      ]
     },
     "execution_count": 101,
     "metadata": {},
     "output_type": "execute_result"
    }
   ],
   "source": [
    "cp"
   ]
  },
  {
   "cell_type": "code",
   "execution_count": 102,
   "metadata": {},
   "outputs": [
    {
     "data": {
      "text/plain": [
       "[0.01044011067723804,\n",
       " 0.017256630501887957,\n",
       " 0.024443209605811263,\n",
       " 0.03339387577192459,\n",
       " 0.04133527192470288,\n",
       " 0.048070005624206213,\n",
       " 0.05703947512890607,\n",
       " 0.06643504229886349,\n",
       " 0.07318531864602326,\n",
       " 0.08284068636372155]"
      ]
     },
     "execution_count": 102,
     "metadata": {},
     "output_type": "execute_result"
    }
   ],
   "source": [
    "cr"
   ]
  }
 ],
 "metadata": {
  "kernelspec": {
   "display_name": "Python 3",
   "language": "python",
   "name": "python3"
  },
  "language_info": {
   "codemirror_mode": {
    "name": "ipython",
    "version": 3
   },
   "file_extension": ".py",
   "mimetype": "text/x-python",
   "name": "python",
   "nbconvert_exporter": "python",
   "pygments_lexer": "ipython3",
   "version": "3.7.2"
  }
 },
 "nbformat": 4,
 "nbformat_minor": 2
}
