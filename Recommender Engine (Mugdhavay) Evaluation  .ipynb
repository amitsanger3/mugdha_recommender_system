{
 "cells": [
  {
   "cell_type": "markdown",
   "metadata": {},
   "source": [
    "# Recommender Engine Evaluation"
   ]
  },
  {
   "cell_type": "markdown",
   "metadata": {},
   "source": [
    "### Client : Mugdhavay"
   ]
  },
  {
   "cell_type": "markdown",
   "metadata": {},
   "source": [
    "Mugdhavay is a resturant, doing business successfully past few years."
   ]
  },
  {
   "cell_type": "markdown",
   "metadata": {},
   "source": [
    "DATASET: Dataset used for this evaluation is a part of original dataset, for that I took permission to use it for my projects presentations. This Dataset can be used for education & research purpose only."
   ]
  },
  {
   "cell_type": "markdown",
   "metadata": {},
   "source": [
    "ALGORITHMS: All algorithms which are presented here are part of original algorithms used for the project. For project i used some other algorithms for display and other purposes."
   ]
  },
  {
   "cell_type": "markdown",
   "metadata": {},
   "source": [
    "### Dataset Files:"
   ]
  },
  {
   "cell_type": "markdown",
   "metadata": {},
   "source": [
    "1. orders.csv :- Carries data related to orders. Columns showing order's id, then id of dish ordered by guest, then id of the guest and then rating given by the guest to that perticular dish. "
   ]
  },
  {
   "cell_type": "markdown",
   "metadata": {},
   "source": [
    "2. dishes.csv :- Carries data related to dishes served in the resturent. Columns showing id of the dish and then name of the dish."
   ]
  },
  {
   "cell_type": "code",
   "execution_count": 1,
   "metadata": {},
   "outputs": [],
   "source": [
    "# Importing recommendation modules to get recommendations.\n",
    "from recommendations import *"
   ]
  },
  {
   "cell_type": "code",
   "execution_count": 2,
   "metadata": {},
   "outputs": [],
   "source": [
    "orders = pd.read_csv('orders.csv')"
   ]
  },
  {
   "cell_type": "code",
   "execution_count": 3,
   "metadata": {},
   "outputs": [
    {
     "data": {
      "text/html": [
       "<div>\n",
       "<style scoped>\n",
       "    .dataframe tbody tr th:only-of-type {\n",
       "        vertical-align: middle;\n",
       "    }\n",
       "\n",
       "    .dataframe tbody tr th {\n",
       "        vertical-align: top;\n",
       "    }\n",
       "\n",
       "    .dataframe thead th {\n",
       "        text-align: right;\n",
       "    }\n",
       "</style>\n",
       "<table border=\"1\" class=\"dataframe\">\n",
       "  <thead>\n",
       "    <tr style=\"text-align: right;\">\n",
       "      <th></th>\n",
       "      <th>id</th>\n",
       "      <th>guest_order_id</th>\n",
       "      <th>guest_to_attend_id</th>\n",
       "      <th>guest_order_ratings</th>\n",
       "    </tr>\n",
       "  </thead>\n",
       "  <tbody>\n",
       "    <tr>\n",
       "      <td>0</td>\n",
       "      <td>1</td>\n",
       "      <td>72</td>\n",
       "      <td>2</td>\n",
       "      <td>4</td>\n",
       "    </tr>\n",
       "    <tr>\n",
       "      <td>1</td>\n",
       "      <td>2</td>\n",
       "      <td>68</td>\n",
       "      <td>2</td>\n",
       "      <td>3</td>\n",
       "    </tr>\n",
       "    <tr>\n",
       "      <td>2</td>\n",
       "      <td>3</td>\n",
       "      <td>33</td>\n",
       "      <td>1</td>\n",
       "      <td>4</td>\n",
       "    </tr>\n",
       "    <tr>\n",
       "      <td>3</td>\n",
       "      <td>4</td>\n",
       "      <td>73</td>\n",
       "      <td>1</td>\n",
       "      <td>3</td>\n",
       "    </tr>\n",
       "    <tr>\n",
       "      <td>4</td>\n",
       "      <td>5</td>\n",
       "      <td>67</td>\n",
       "      <td>3</td>\n",
       "      <td>5</td>\n",
       "    </tr>\n",
       "  </tbody>\n",
       "</table>\n",
       "</div>"
      ],
      "text/plain": [
       "   id  guest_order_id  guest_to_attend_id  guest_order_ratings\n",
       "0   1              72                   2                    4\n",
       "1   2              68                   2                    3\n",
       "2   3              33                   1                    4\n",
       "3   4              73                   1                    3\n",
       "4   5              67                   3                    5"
      ]
     },
     "execution_count": 3,
     "metadata": {},
     "output_type": "execute_result"
    }
   ],
   "source": [
    "orders.head()"
   ]
  },
  {
   "cell_type": "code",
   "execution_count": 4,
   "metadata": {},
   "outputs": [],
   "source": [
    "dishes = pd.read_csv('dishes.csv')"
   ]
  },
  {
   "cell_type": "code",
   "execution_count": 5,
   "metadata": {},
   "outputs": [
    {
     "data": {
      "text/html": [
       "<div>\n",
       "<style scoped>\n",
       "    .dataframe tbody tr th:only-of-type {\n",
       "        vertical-align: middle;\n",
       "    }\n",
       "\n",
       "    .dataframe tbody tr th {\n",
       "        vertical-align: top;\n",
       "    }\n",
       "\n",
       "    .dataframe thead th {\n",
       "        text-align: right;\n",
       "    }\n",
       "</style>\n",
       "<table border=\"1\" class=\"dataframe\">\n",
       "  <thead>\n",
       "    <tr style=\"text-align: right;\">\n",
       "      <th></th>\n",
       "      <th>id</th>\n",
       "      <th>item</th>\n",
       "    </tr>\n",
       "  </thead>\n",
       "  <tbody>\n",
       "    <tr>\n",
       "      <td>0</td>\n",
       "      <td>2</td>\n",
       "      <td>Fresh Tomato Basil Soup</td>\n",
       "    </tr>\n",
       "    <tr>\n",
       "      <td>1</td>\n",
       "      <td>3</td>\n",
       "      <td>Vegetable Hot &amp; Sour Soup</td>\n",
       "    </tr>\n",
       "    <tr>\n",
       "      <td>2</td>\n",
       "      <td>4</td>\n",
       "      <td>Manchow Vegetable Soup</td>\n",
       "    </tr>\n",
       "    <tr>\n",
       "      <td>3</td>\n",
       "      <td>5</td>\n",
       "      <td>Vegetable Clear Soup</td>\n",
       "    </tr>\n",
       "    <tr>\n",
       "      <td>4</td>\n",
       "      <td>6</td>\n",
       "      <td>Sweet Corn Vegetable Soup</td>\n",
       "    </tr>\n",
       "  </tbody>\n",
       "</table>\n",
       "</div>"
      ],
      "text/plain": [
       "   id                        item\n",
       "0   2    Fresh Tomato Basil Soup \n",
       "1   3  Vegetable Hot & Sour Soup \n",
       "2   4     Manchow Vegetable Soup \n",
       "3   5       Vegetable Clear Soup \n",
       "4   6  Sweet Corn Vegetable Soup "
      ]
     },
     "execution_count": 5,
     "metadata": {},
     "output_type": "execute_result"
    }
   ],
   "source": [
    "dishes.head()"
   ]
  },
  {
   "cell_type": "markdown",
   "metadata": {},
   "source": [
    "### Initializing Recommendation object"
   ]
  },
  {
   "cell_type": "code",
   "execution_count": 7,
   "metadata": {},
   "outputs": [],
   "source": [
    "rec = Recommendations()"
   ]
  },
  {
   "cell_type": "markdown",
   "metadata": {},
   "source": [
    "### Splitting data into two parts for testing & trainig purpose"
   ]
  },
  {
   "cell_type": "code",
   "execution_count": 8,
   "metadata": {},
   "outputs": [],
   "source": [
    "train_data, test_data = rec.get_training_test_data(orders, 0.6, 0.4, 100)"
   ]
  },
  {
   "cell_type": "markdown",
   "metadata": {},
   "source": [
    "### order_matrix, rating_matrix & co_occurence_matrix "
   ]
  },
  {
   "cell_type": "markdown",
   "metadata": {},
   "source": [
    "order_matrix: Matrix of the size(number of guests, number of dishes), if guest placed order of anyperticular dish then 1, 0 otherwise."
   ]
  },
  {
   "cell_type": "markdown",
   "metadata": {},
   "source": [
    "rating_matrix: Matrix of the size(number of guests, number of dishes), mean of all the ratings given by any guest to any perticaular dish, 0.0 otherwise."
   ]
  },
  {
   "cell_type": "markdown",
   "metadata": {},
   "source": [
    "co_occurence_matrix: Matrix of size(number of dishes, number of dishes) . If any combination of dishes match\n",
    "        with order adds 1 with the value, otherwise 0"
   ]
  },
  {
   "cell_type": "code",
   "execution_count": 9,
   "metadata": {},
   "outputs": [],
   "source": [
    "order_matrix, rating_matrix = rec.get_order_and_ratings_matrix(train_data)"
   ]
  },
  {
   "cell_type": "code",
   "execution_count": 10,
   "metadata": {},
   "outputs": [],
   "source": [
    "co_occurence_matrix = rec.get_co_occurrence_matrix(order_matrix)"
   ]
  },
  {
   "cell_type": "code",
   "execution_count": 11,
   "metadata": {},
   "outputs": [],
   "source": [
    "# list of id's of dishes\n",
    "dish_id = dishes['id'].to_list()"
   ]
  },
  {
   "cell_type": "code",
   "execution_count": 13,
   "metadata": {},
   "outputs": [],
   "source": [
    "# list of name of dishes\n",
    "dish = dishes['item'].to_list()"
   ]
  },
  {
   "cell_type": "markdown",
   "metadata": {},
   "source": [
    "## Recommendations by Highest Ratings "
   ]
  },
  {
   "cell_type": "code",
   "execution_count": 14,
   "metadata": {},
   "outputs": [],
   "source": [
    "recommendationsByHighestRatings = rec.get_recommendations_by_highest_ratings(dish_id, dish, rating_matrix)"
   ]
  },
  {
   "cell_type": "code",
   "execution_count": 15,
   "metadata": {},
   "outputs": [
    {
     "name": "stdout",
     "output_type": "stream",
     "text": [
      "15 Murg Yakni Shorba (Kashmiri) : 0.5081309110702865\n",
      "2 Fresh Tomato Basil Soup : 0.5049159692454243\n",
      "105 Mutton Biryani with Raita : 0.5018541198884126\n",
      "72 Palak Paneer  : 0.49618969857794104\n",
      "41 Tandoori Chicken Half / Full : 0.4945397019799959\n",
      "31 Paneer Malai Tikka : 0.49400387834251885\n",
      "11 Hot & Sour Chicken : 0.4926855820915832\n",
      "73 Kadai Paneer : 0.4916564605021433\n",
      "71 Mix Vegetable : 0.4905933183642921\n",
      "60 Kadi Pakora : 0.48980234061373074\n",
      "28 Fish Amritsari: 0.48889229094372993\n"
     ]
    }
   ],
   "source": [
    "for i in recommendationsByHighestRatings:print(i)"
   ]
  },
  {
   "cell_type": "markdown",
   "metadata": {},
   "source": [
    "## Recommendations by Popularity "
   ]
  },
  {
   "cell_type": "markdown",
   "metadata": {},
   "source": [
    "There is very much similarity in the results of the popularity recommendations & highest rating recommendations. It is because the item which is popular obviously gets higher ratings."
   ]
  },
  {
   "cell_type": "code",
   "execution_count": 16,
   "metadata": {},
   "outputs": [],
   "source": [
    "recommendationsByPopularity = rec.get_recommendations_by_popularity(dish_id, dish, order_matrix)"
   ]
  },
  {
   "cell_type": "code",
   "execution_count": 17,
   "metadata": {},
   "outputs": [
    {
     "name": "stdout",
     "output_type": "stream",
     "text": [
      "2 Fresh Tomato Basil Soup : 0.12890385793018982\n",
      "15 Murg Yakni Shorba (Kashmiri) : 0.12890385793018982\n",
      "105 Mutton Biryani with Raita : 0.12655644008981426\n",
      "31 Paneer Malai Tikka : 0.12563788528271075\n",
      "72 Palak Paneer  : 0.12553582363747703\n",
      "41 Tandoori Chicken Half / Full : 0.12522963870177586\n",
      "11 Hot & Sour Chicken : 0.12461726883037355\n",
      "71 Mix Vegetable : 0.12420902224943867\n",
      "33 Tandoori Gobhi : 0.12410696060420494\n",
      "60 Kadi Pakora : 0.12349459073280261\n",
      "106 Egg Biryani with Raita : 0.12349459073280261\n"
     ]
    }
   ],
   "source": [
    "for i in recommendationsByPopularity: print(i)"
   ]
  },
  {
   "cell_type": "markdown",
   "metadata": {},
   "source": [
    "## Recommendations by Co-Occurence "
   ]
  },
  {
   "cell_type": "code",
   "execution_count": 18,
   "metadata": {},
   "outputs": [],
   "source": [
    "# Select any random guest id\n",
    "selected_guest_id = 1024"
   ]
  },
  {
   "cell_type": "code",
   "execution_count": 21,
   "metadata": {},
   "outputs": [
    {
     "data": {
      "text/plain": [
       "True"
      ]
     },
     "execution_count": 21,
     "metadata": {},
     "output_type": "execute_result"
    }
   ],
   "source": [
    "# Check that this id is in order dataset or not. If present then move further, otherwise select another guest.\n",
    "selected_guest_id in orders['guest_to_attend_id'].unique()"
   ]
  },
  {
   "cell_type": "code",
   "execution_count": 22,
   "metadata": {},
   "outputs": [],
   "source": [
    "# If guest present in our order dataset then find out the list of dishes he orders.\n",
    "selected_guest_tried_dishes = list(orders[orders['guest_to_attend_id'] == selected_guest_id]['guest_order_id'].unique())"
   ]
  },
  {
   "cell_type": "code",
   "execution_count": 23,
   "metadata": {},
   "outputs": [],
   "source": [
    "recommendationsByCo_Occurence = rec.get_recommendations_by_occurence(selected_guest_tried_dishes, dish_id, dish, co_occurence_matrix)"
   ]
  },
  {
   "cell_type": "code",
   "execution_count": 24,
   "metadata": {},
   "outputs": [
    {
     "name": "stdout",
     "output_type": "stream",
     "text": [
      "15 Murg Yakni Shorba (Kashmiri) : 0.008927602999599462\n",
      "2 Fresh Tomato Basil Soup : 0.008881946730979364\n",
      "33 Tandoori Gobhi : 0.008667946389851742\n",
      "72 Palak Paneer  : 0.008588351173352413\n",
      "63 Laal Maas : 0.00855349460795424\n",
      "73 Kadai Paneer : 0.008552653898093534\n",
      "31 Paneer Malai Tikka : 0.00849264881323857\n",
      "11 Hot & Sour Chicken : 0.008491203501241955\n",
      "105 Mutton Biryani with Raita : 0.008443613156430234\n",
      "53 Fruit Salad : 0.008405947223089362\n",
      "67 Lahsooni Palak : 0.008345157802789578\n"
     ]
    }
   ],
   "source": [
    "for i in recommendationsByCo_Occurence: print(i)"
   ]
  },
  {
   "cell_type": "markdown",
   "metadata": {},
   "source": [
    "# Evaluation"
   ]
  },
  {
   "cell_type": "markdown",
   "metadata": {},
   "source": [
    "Evaluation is the precision recall evaluation of diffrent recommendations we get by my algorithms to test how much better result they are showing."
   ]
  },
  {
   "cell_type": "code",
   "execution_count": 25,
   "metadata": {},
   "outputs": [],
   "source": [
    "# Importing evaluation modules\n",
    "from evaluation import *"
   ]
  },
  {
   "cell_type": "markdown",
   "metadata": {},
   "source": [
    "### Initialising  PrecisionRecallEvaluation object"
   ]
  },
  {
   "cell_type": "code",
   "execution_count": 26,
   "metadata": {},
   "outputs": [],
   "source": [
    "eva = PrecisionRecallEvaluation(test_data, train_data, dish_id, dish, order_matrix, rating_matrix, co_occurence_matrix)"
   ]
  },
  {
   "cell_type": "code",
   "execution_count": 27,
   "metadata": {},
   "outputs": [
    {
     "name": "stdout",
     "output_type": "stream",
     "text": [
      "Plotting Precision-Recall curve on diffrent Recommendations \n",
      "\n"
     ]
    },
    {
     "data": {
      "image/png": "[encoded data removed]",
      "text/plain": [
       "<Figure size 432x288 with 1 Axes>"
      ]
     },
     "metadata": {
      "needs_background": "light"
     },
     "output_type": "display_data"
    }
   ],
   "source": [
    "# Testing on 1% of total data\n",
    "eva.precision_recall_evaluation(0.01)"
   ]
  },
  {
   "cell_type": "markdown",
   "metadata": {},
   "source": [
    "On 1% data precision recall curves aren't in good shape, they aren't minimizing, so try on large data."
   ]
  },
  {
   "cell_type": "code",
   "execution_count": 29,
   "metadata": {},
   "outputs": [
    {
     "name": "stdout",
     "output_type": "stream",
     "text": [
      "Plotting Precision-Recall curve on diffrent Recommendations \n",
      "\n"
     ]
    },
    {
     "data": {
      "image/png": "[encoded data removed]",
      "text/plain": [
       "<Figure size 432x288 with 1 Axes>"
      ]
     },
     "metadata": {
      "needs_background": "light"
     },
     "output_type": "display_data"
    }
   ],
   "source": [
    "# Testing on 5% data\n",
    "eva.precision_recall_evaluation(0.05)"
   ]
  },
  {
   "cell_type": "code",
   "execution_count": 28,
   "metadata": {},
   "outputs": [
    {
     "name": "stdout",
     "output_type": "stream",
     "text": [
      "Plotting Precision-Recall curve on diffrent Recommendations \n",
      "\n"
     ]
    },
    {
     "data": {
      "image/png": "[encoded data removed]",
      "text/plain": [
       "<Figure size 432x288 with 1 Axes>"
      ]
     },
     "metadata": {
      "needs_background": "light"
     },
     "output_type": "display_data"
    }
   ],
   "source": [
    "# Testing on 10% data\n",
    "eva.precision_recall_evaluation(0.1)"
   ]
  },
  {
   "cell_type": "code",
   "execution_count": 30,
   "metadata": {},
   "outputs": [
    {
     "name": "stdout",
     "output_type": "stream",
     "text": [
      "Plotting Precision-Recall curve on diffrent Recommendations \n",
      "\n"
     ]
    },
    {
     "data": {
      "image/png": "[encoded data removed]",
      "text/plain": [
       "<Figure size 432x288 with 1 Axes>"
      ]
     },
     "metadata": {
      "needs_background": "light"
     },
     "output_type": "display_data"
    }
   ],
   "source": [
    "# Testing on 25% data\n",
    "eva.precision_recall_evaluation(0.25)"
   ]
  },
  {
   "cell_type": "markdown",
   "metadata": {},
   "source": [
    "As this is clear that as we increase the ammount of data to feed in evaluation shape of curves going better and better, which means that algorithms predicting well.  Only popularity curve not showing significantly progress with data feed, means items that are popularity doesn't provide personalisation with item selection, but highest ratings & co-occurence does, which is our main goal to make recommender engine, to provide personalised recommendations so that a user gets which he prefers. This enhance sales of any company.  "
   ]
  },
  {
   "cell_type": "code",
   "execution_count": null,
   "metadata": {},
   "outputs": [],
   "source": []
  }
 ],
 "metadata": {
  "kernelspec": {
   "display_name": "Python 3",
   "language": "python",
   "name": "python3"
  },
  "language_info": {
   "codemirror_mode": {
    "name": "ipython",
    "version": 3
   },
   "file_extension": ".py",
   "mimetype": "text/x-python",
   "name": "python",
   "nbconvert_exporter": "python",
   "pygments_lexer": "ipython3",
   "version": "3.7.4"
  }
 },
 "nbformat": 4,
 "nbformat_minor": 2
}
